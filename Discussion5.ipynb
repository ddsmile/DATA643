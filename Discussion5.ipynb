{
 "cells": [
  {
   "cell_type": "code",
   "execution_count": 1,
   "metadata": {
    "collapsed": true
   },
   "outputs": [],
   "source": [
    "from IPython.display import Image\n",
    "from IPython.core.display import HTML "
   ]
  },
  {
   "cell_type": "markdown",
   "metadata": {},
   "source": [
    "## Graph Based Recommendations"
   ]
  },
  {
   "cell_type": "markdown",
   "metadata": {},
   "source": [
    "Here is a example using graph based recommendations on SnapGuide, a web service for anyone who shares step-by-step tutorials as “how to guides”. Users can ‘like’ certain tutorials and similar turotials can be recommended based on what other uses liked. "
   ]
  },
  {
   "cell_type": "markdown",
   "metadata": {},
   "source": [
    "### Graph database schema"
   ]
  },
  {
   "cell_type": "markdown",
   "metadata": {},
   "source": [
    "The graph database was created in Neo4j. In the schema shown below, the nodes in the graph database are User, Tutorial and KeyWord. Each node has attributes. The relationships between nodes are: 1) User –like-> Tutorial, and 2) Tutorial –hasCategory-> KeyWord."
   ]
  },
  {
   "cell_type": "code",
   "execution_count": 2,
   "metadata": {
    "collapsed": false
   },
   "outputs": [
    {
     "data": {
      "text/html": [
       "<img src=\"https://raw.githubusercontent.com/ddsmile/DATA643/master/schema.png\"/>"
      ],
      "text/plain": [
       "<IPython.core.display.Image object>"
      ]
     },
     "execution_count": 2,
     "metadata": {},
     "output_type": "execute_result"
    }
   ],
   "source": [
    "Image(url= \"https://raw.githubusercontent.com/ddsmile/DATA643/master/schema.png\")"
   ]
  },
  {
   "cell_type": "markdown",
   "metadata": {},
   "source": [
    "### Recommendation "
   ]
  },
  {
   "cell_type": "markdown",
   "metadata": {},
   "source": [
    "After the data is represented as graph, making recommendation is to traverse the graph through either collaborative filtering, content-based approach or hybrid of both techniques. \n",
    "\n",
    "Here is an example of collaborative filtering:\n",
    "\n",
    "Which users liked Make Sous Vide Chicken at Home and what other tutorials did they liked most in common to?\n",
    "\n",
    "The query would be like: \n",
    "\n",
    "1)\tFilter all users that liked the tutorial (“Make Sous Vide Chicken at Home”) \n",
    "\n",
    "2)\tFind out what they liked  and fetch the title of those tutorials \n",
    "\n",
    "3)\tReturns the first five items\n",
    "\n",
    "The return paths could contain many duplicates. The duplication can be used to build a ranking mechanism for recommendations. \n"
   ]
  },
  {
   "cell_type": "markdown",
   "metadata": {},
   "source": [
    "<b> Ref: \n",
    "\n",
    "http://aimotion.blogspot.com/2013/03/graph-based-recommendations-using-how.html"
   ]
  }
 ],
 "metadata": {
  "kernelspec": {
   "display_name": "Python 2",
   "language": "python",
   "name": "python2"
  },
  "language_info": {
   "codemirror_mode": {
    "name": "ipython",
    "version": 2
   },
   "file_extension": ".py",
   "mimetype": "text/x-python",
   "name": "python",
   "nbconvert_exporter": "python",
   "pygments_lexer": "ipython2",
   "version": "2.7.10"
  }
 },
 "nbformat": 4,
 "nbformat_minor": 0
}
