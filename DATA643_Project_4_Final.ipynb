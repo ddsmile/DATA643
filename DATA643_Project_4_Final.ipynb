{
 "cells": [
  {
   "cell_type": "markdown",
   "metadata": {},
   "source": [
    "DATA643- Project 4\n",
    "======\n",
    "Prashanth Padebetttu, Parshu Rath, Adjare Windokun, Xingjia Wu\n",
    "----------\n",
    "<b> Summer 2016 <br>\n",
    "Instructor: Andrew Catlin"
   ]
  },
  {
   "cell_type": "markdown",
   "metadata": {},
   "source": [
    "# Introdocution"
   ]
  },
  {
   "cell_type": "markdown",
   "metadata": {},
   "source": [
    "We use the Movielens dataset consisting of 100K records as our dataset and add context features. We use context-prefiltering technique to implement the context-aware recommender systems."
   ]
  },
  {
   "cell_type": "markdown",
   "metadata": {},
   "source": [
    "Load Movielens Data\n",
    "-------\n",
    "<b> Load 100K movie data as pandas dataframe:"
   ]
  },
  {
   "cell_type": "code",
   "execution_count": 1,
   "metadata": {
    "collapsed": true
   },
   "outputs": [],
   "source": [
    "# Required Python Packages\n",
    "%matplotlib inline\n",
    "\n",
    "from math import sqrt\n",
    "from sklearn.metrics.pairwise import cosine_similarity\n",
    "import csv\n",
    "import pandas as pd\n",
    "import numpy as np\n",
    "from scipy import spatial\n",
    "import matplotlib.pyplot as plt\n",
    "import scipy \n",
    "import datetime\n",
    "from sklearn.cross_validation import train_test_split\n",
    "from sklearn.metrics import mean_squared_error\n",
    "from IPython.display import Image\n",
    "from IPython.core.display import HTML "
   ]
  },
  {
   "cell_type": "code",
   "execution_count": 2,
   "metadata": {
    "collapsed": false
   },
   "outputs": [
    {
     "data": {
      "text/plain": [
       "(99991, 32)"
      ]
     },
     "execution_count": 2,
     "metadata": {},
     "output_type": "execute_result"
    }
   ],
   "source": [
    "#Load data into a pandas dataframe\n",
    "# Movielens data with 100,000 records\n",
    "url = 'https://raw.githubusercontent.com/ppadebettu/CUNY/IS-607-Data-Acquisition-and-Management/IS643/Project_2/movielens.csv'\n",
    "df = pd.read_csv(url, sep = \",\" , header = 0, na_values='NaN') # 100000 by 32 dataframe\n",
    "\n",
    "# Have to take out the null values in the realease date of the dataframe\n",
    "df = df[~df['releasedate'].isnull()] \n",
    "df.shape"
   ]
  },
  {
   "cell_type": "code",
   "execution_count": 3,
   "metadata": {
    "collapsed": false
   },
   "outputs": [
    {
     "data": {
      "text/plain": [
       "(99023, 32)"
      ]
     },
     "execution_count": 3,
     "metadata": {},
     "output_type": "execute_result"
    }
   ],
   "source": [
    "# Only including movies with more than 5 ratings\n",
    "df = df.groupby('movieid').filter(lambda x: len(x) > 5)\n",
    "# print \"Minimum counts of ratings for each movie is: \"\n",
    "# print df.movieid.value_counts().min() \n",
    "df.shape"
   ]
  },
  {
   "cell_type": "code",
   "execution_count": 4,
   "metadata": {
    "collapsed": false
   },
   "outputs": [
    {
     "data": {
      "text/html": [
       "<div>\n",
       "<table border=\"1\" class=\"dataframe\">\n",
       "  <thead>\n",
       "    <tr style=\"text-align: right;\">\n",
       "      <th></th>\n",
       "      <th>userid</th>\n",
       "      <th>age</th>\n",
       "      <th>gender</th>\n",
       "      <th>occupation</th>\n",
       "      <th>zipcode</th>\n",
       "      <th>itemid</th>\n",
       "      <th>rating</th>\n",
       "      <th>timestamp</th>\n",
       "      <th>movieid</th>\n",
       "      <th>movietitle</th>\n",
       "      <th>...</th>\n",
       "      <th>fantasy</th>\n",
       "      <th>filmnoir</th>\n",
       "      <th>horror</th>\n",
       "      <th>musical</th>\n",
       "      <th>mystery</th>\n",
       "      <th>romance</th>\n",
       "      <th>scifi</th>\n",
       "      <th>thriller</th>\n",
       "      <th>war</th>\n",
       "      <th>western</th>\n",
       "    </tr>\n",
       "  </thead>\n",
       "  <tbody>\n",
       "    <tr>\n",
       "      <th>0</th>\n",
       "      <td>196</td>\n",
       "      <td>49</td>\n",
       "      <td>M</td>\n",
       "      <td>writer</td>\n",
       "      <td>55105</td>\n",
       "      <td>242</td>\n",
       "      <td>3</td>\n",
       "      <td>881250949</td>\n",
       "      <td>242</td>\n",
       "      <td>Kolya (1996)</td>\n",
       "      <td>...</td>\n",
       "      <td>0</td>\n",
       "      <td>0</td>\n",
       "      <td>0</td>\n",
       "      <td>0</td>\n",
       "      <td>0</td>\n",
       "      <td>0</td>\n",
       "      <td>0</td>\n",
       "      <td>0</td>\n",
       "      <td>0</td>\n",
       "      <td>0</td>\n",
       "    </tr>\n",
       "    <tr>\n",
       "      <th>1</th>\n",
       "      <td>186</td>\n",
       "      <td>39</td>\n",
       "      <td>F</td>\n",
       "      <td>executive</td>\n",
       "      <td>00000</td>\n",
       "      <td>302</td>\n",
       "      <td>3</td>\n",
       "      <td>891717742</td>\n",
       "      <td>302</td>\n",
       "      <td>L.A. Confidential (1997)</td>\n",
       "      <td>...</td>\n",
       "      <td>0</td>\n",
       "      <td>1</td>\n",
       "      <td>0</td>\n",
       "      <td>0</td>\n",
       "      <td>1</td>\n",
       "      <td>0</td>\n",
       "      <td>0</td>\n",
       "      <td>1</td>\n",
       "      <td>0</td>\n",
       "      <td>0</td>\n",
       "    </tr>\n",
       "    <tr>\n",
       "      <th>2</th>\n",
       "      <td>22</td>\n",
       "      <td>25</td>\n",
       "      <td>M</td>\n",
       "      <td>writer</td>\n",
       "      <td>40206</td>\n",
       "      <td>377</td>\n",
       "      <td>1</td>\n",
       "      <td>878887116</td>\n",
       "      <td>377</td>\n",
       "      <td>Heavyweights (1994)</td>\n",
       "      <td>...</td>\n",
       "      <td>0</td>\n",
       "      <td>0</td>\n",
       "      <td>0</td>\n",
       "      <td>0</td>\n",
       "      <td>0</td>\n",
       "      <td>0</td>\n",
       "      <td>0</td>\n",
       "      <td>0</td>\n",
       "      <td>0</td>\n",
       "      <td>0</td>\n",
       "    </tr>\n",
       "    <tr>\n",
       "      <th>3</th>\n",
       "      <td>244</td>\n",
       "      <td>28</td>\n",
       "      <td>M</td>\n",
       "      <td>technician</td>\n",
       "      <td>80525</td>\n",
       "      <td>51</td>\n",
       "      <td>2</td>\n",
       "      <td>880606923</td>\n",
       "      <td>51</td>\n",
       "      <td>Legends of the Fall (1994)</td>\n",
       "      <td>...</td>\n",
       "      <td>0</td>\n",
       "      <td>0</td>\n",
       "      <td>0</td>\n",
       "      <td>0</td>\n",
       "      <td>0</td>\n",
       "      <td>1</td>\n",
       "      <td>0</td>\n",
       "      <td>0</td>\n",
       "      <td>1</td>\n",
       "      <td>1</td>\n",
       "    </tr>\n",
       "    <tr>\n",
       "      <th>4</th>\n",
       "      <td>166</td>\n",
       "      <td>47</td>\n",
       "      <td>M</td>\n",
       "      <td>educator</td>\n",
       "      <td>55113</td>\n",
       "      <td>346</td>\n",
       "      <td>1</td>\n",
       "      <td>886397596</td>\n",
       "      <td>346</td>\n",
       "      <td>Jackie Brown (1997)</td>\n",
       "      <td>...</td>\n",
       "      <td>0</td>\n",
       "      <td>0</td>\n",
       "      <td>0</td>\n",
       "      <td>0</td>\n",
       "      <td>0</td>\n",
       "      <td>0</td>\n",
       "      <td>0</td>\n",
       "      <td>0</td>\n",
       "      <td>0</td>\n",
       "      <td>0</td>\n",
       "    </tr>\n",
       "  </tbody>\n",
       "</table>\n",
       "<p>5 rows × 32 columns</p>\n",
       "</div>"
      ],
      "text/plain": [
       "   userid  age gender  occupation zipcode  itemid  rating  timestamp  movieid  \\\n",
       "0     196   49      M      writer   55105     242       3  881250949      242   \n",
       "1     186   39      F   executive   00000     302       3  891717742      302   \n",
       "2      22   25      M      writer   40206     377       1  878887116      377   \n",
       "3     244   28      M  technician   80525      51       2  880606923       51   \n",
       "4     166   47      M    educator   55113     346       1  886397596      346   \n",
       "\n",
       "                   movietitle   ...    fantasy  filmnoir horror  musical  \\\n",
       "0                Kolya (1996)   ...          0         0      0        0   \n",
       "1    L.A. Confidential (1997)   ...          0         1      0        0   \n",
       "2         Heavyweights (1994)   ...          0         0      0        0   \n",
       "3  Legends of the Fall (1994)   ...          0         0      0        0   \n",
       "4         Jackie Brown (1997)   ...          0         0      0        0   \n",
       "\n",
       "   mystery  romance  scifi  thriller  war  western  \n",
       "0        0        0      0         0    0        0  \n",
       "1        1        0      0         1    0        0  \n",
       "2        0        0      0         0    0        0  \n",
       "3        0        1      0         0    1        1  \n",
       "4        0        0      0         0    0        0  \n",
       "\n",
       "[5 rows x 32 columns]"
      ]
     },
     "execution_count": 4,
     "metadata": {},
     "output_type": "execute_result"
    }
   ],
   "source": [
    "# Displaying the movielens dataset as a pandas dataframe\n",
    "df.head()"
   ]
  },
  {
   "cell_type": "code",
   "execution_count": 5,
   "metadata": {
    "collapsed": false
   },
   "outputs": [
    {
     "data": {
      "text/html": [
       "<div>\n",
       "<table border=\"1\" class=\"dataframe\">\n",
       "  <thead>\n",
       "    <tr style=\"text-align: right;\">\n",
       "      <th></th>\n",
       "      <th>userid</th>\n",
       "      <th>age</th>\n",
       "      <th>gender</th>\n",
       "      <th>occupation</th>\n",
       "      <th>zipcode</th>\n",
       "      <th>itemid</th>\n",
       "      <th>rating</th>\n",
       "      <th>timestamp</th>\n",
       "      <th>movieid</th>\n",
       "      <th>movietitle</th>\n",
       "      <th>...</th>\n",
       "      <th>scifi</th>\n",
       "      <th>thriller</th>\n",
       "      <th>war</th>\n",
       "      <th>western</th>\n",
       "      <th>date</th>\n",
       "      <th>time</th>\n",
       "      <th>weekday</th>\n",
       "      <th>agegroup</th>\n",
       "      <th>timeofday</th>\n",
       "      <th>location</th>\n",
       "    </tr>\n",
       "  </thead>\n",
       "  <tbody>\n",
       "    <tr>\n",
       "      <th>0</th>\n",
       "      <td>196</td>\n",
       "      <td>49</td>\n",
       "      <td>M</td>\n",
       "      <td>writer</td>\n",
       "      <td>55105</td>\n",
       "      <td>242</td>\n",
       "      <td>3</td>\n",
       "      <td>881250949</td>\n",
       "      <td>242</td>\n",
       "      <td>Kolya (1996)</td>\n",
       "      <td>...</td>\n",
       "      <td>0</td>\n",
       "      <td>0</td>\n",
       "      <td>0</td>\n",
       "      <td>0</td>\n",
       "      <td>1997-12-04</td>\n",
       "      <td>10:55:49</td>\n",
       "      <td>Weekday</td>\n",
       "      <td>45+</td>\n",
       "      <td>morning</td>\n",
       "      <td>home</td>\n",
       "    </tr>\n",
       "    <tr>\n",
       "      <th>1</th>\n",
       "      <td>186</td>\n",
       "      <td>39</td>\n",
       "      <td>F</td>\n",
       "      <td>executive</td>\n",
       "      <td>00000</td>\n",
       "      <td>302</td>\n",
       "      <td>3</td>\n",
       "      <td>891717742</td>\n",
       "      <td>302</td>\n",
       "      <td>L.A. Confidential (1997)</td>\n",
       "      <td>...</td>\n",
       "      <td>0</td>\n",
       "      <td>1</td>\n",
       "      <td>0</td>\n",
       "      <td>0</td>\n",
       "      <td>1998-04-04</td>\n",
       "      <td>15:22:22</td>\n",
       "      <td>Weekend</td>\n",
       "      <td>30-44</td>\n",
       "      <td>afternoon</td>\n",
       "      <td>home</td>\n",
       "    </tr>\n",
       "    <tr>\n",
       "      <th>2</th>\n",
       "      <td>22</td>\n",
       "      <td>25</td>\n",
       "      <td>M</td>\n",
       "      <td>writer</td>\n",
       "      <td>40206</td>\n",
       "      <td>377</td>\n",
       "      <td>1</td>\n",
       "      <td>878887116</td>\n",
       "      <td>377</td>\n",
       "      <td>Heavyweights (1994)</td>\n",
       "      <td>...</td>\n",
       "      <td>0</td>\n",
       "      <td>0</td>\n",
       "      <td>0</td>\n",
       "      <td>0</td>\n",
       "      <td>1997-11-07</td>\n",
       "      <td>02:18:36</td>\n",
       "      <td>Weekend</td>\n",
       "      <td>19-29</td>\n",
       "      <td>night</td>\n",
       "      <td>home</td>\n",
       "    </tr>\n",
       "    <tr>\n",
       "      <th>3</th>\n",
       "      <td>244</td>\n",
       "      <td>28</td>\n",
       "      <td>M</td>\n",
       "      <td>technician</td>\n",
       "      <td>80525</td>\n",
       "      <td>51</td>\n",
       "      <td>2</td>\n",
       "      <td>880606923</td>\n",
       "      <td>51</td>\n",
       "      <td>Legends of the Fall (1994)</td>\n",
       "      <td>...</td>\n",
       "      <td>0</td>\n",
       "      <td>0</td>\n",
       "      <td>1</td>\n",
       "      <td>1</td>\n",
       "      <td>1997-11-27</td>\n",
       "      <td>00:02:03</td>\n",
       "      <td>Weekday</td>\n",
       "      <td>19-29</td>\n",
       "      <td>night</td>\n",
       "      <td>home</td>\n",
       "    </tr>\n",
       "    <tr>\n",
       "      <th>4</th>\n",
       "      <td>166</td>\n",
       "      <td>47</td>\n",
       "      <td>M</td>\n",
       "      <td>educator</td>\n",
       "      <td>55113</td>\n",
       "      <td>346</td>\n",
       "      <td>1</td>\n",
       "      <td>886397596</td>\n",
       "      <td>346</td>\n",
       "      <td>Jackie Brown (1997)</td>\n",
       "      <td>...</td>\n",
       "      <td>0</td>\n",
       "      <td>0</td>\n",
       "      <td>0</td>\n",
       "      <td>0</td>\n",
       "      <td>1998-02-02</td>\n",
       "      <td>00:33:16</td>\n",
       "      <td>Weekday</td>\n",
       "      <td>45+</td>\n",
       "      <td>night</td>\n",
       "      <td>home</td>\n",
       "    </tr>\n",
       "  </tbody>\n",
       "</table>\n",
       "<p>5 rows × 38 columns</p>\n",
       "</div>"
      ],
      "text/plain": [
       "   userid  age gender  occupation zipcode  itemid  rating  timestamp  movieid  \\\n",
       "0     196   49      M      writer   55105     242       3  881250949      242   \n",
       "1     186   39      F   executive   00000     302       3  891717742      302   \n",
       "2      22   25      M      writer   40206     377       1  878887116      377   \n",
       "3     244   28      M  technician   80525      51       2  880606923       51   \n",
       "4     166   47      M    educator   55113     346       1  886397596      346   \n",
       "\n",
       "                   movietitle    ...    scifi  thriller war  western  \\\n",
       "0                Kolya (1996)    ...        0         0   0        0   \n",
       "1    L.A. Confidential (1997)    ...        0         1   0        0   \n",
       "2         Heavyweights (1994)    ...        0         0   0        0   \n",
       "3  Legends of the Fall (1994)    ...        0         0   1        1   \n",
       "4         Jackie Brown (1997)    ...        0         0   0        0   \n",
       "\n",
       "         date      time  weekday  agegroup  timeofday  location  \n",
       "0  1997-12-04  10:55:49  Weekday       45+    morning      home  \n",
       "1  1998-04-04  15:22:22  Weekend     30-44  afternoon      home  \n",
       "2  1997-11-07  02:18:36  Weekend     19-29      night      home  \n",
       "3  1997-11-27  00:02:03  Weekday     19-29      night      home  \n",
       "4  1998-02-02  00:33:16  Weekday       45+      night      home  \n",
       "\n",
       "[5 rows x 38 columns]"
      ]
     },
     "execution_count": 5,
     "metadata": {},
     "output_type": "execute_result"
    }
   ],
   "source": [
    "# Code to add the new columns that will contain the context data that is obtained from the timestamp\n",
    "\n",
    "def fdate(x):   \n",
    "    return datetime.datetime.fromtimestamp(\n",
    "        int(str(x['timestamp']))).strftime('%Y-%m-%d') \n",
    "\n",
    "\n",
    "def ftime(x):   \n",
    "    return datetime.datetime.fromtimestamp(\n",
    "        int(str(x['timestamp']))).strftime('%H:%M:%S') \n",
    "\n",
    "def fweekday(x):   \n",
    "    \n",
    "    if (datetime.datetime.fromtimestamp(int(str(x['timestamp']))).weekday() >= 4):\n",
    "        return 'Weekend'\n",
    "    else:\n",
    "        return 'Weekday'\n",
    "    \n",
    "def fagegroup(x):   \n",
    "    \n",
    "    if (x['age'] >= 45):\n",
    "        return '45+'\n",
    "    \n",
    "    elif (x['age'] >= 30):\n",
    "        return '30-44'\n",
    "    \n",
    "    elif (x['age'] >= 19):\n",
    "        return '19-29'\n",
    "    else:\n",
    "        return 'below 18'\n",
    "    \n",
    "    \n",
    "def ftimeofday(x): \n",
    "    \n",
    "    t = datetime.datetime.fromtimestamp(int(str(x['timestamp']))).strftime('%H:%M:%S')\n",
    "    \n",
    "    if (t >= '23:00:00'):\n",
    "        return 'night'\n",
    "    \n",
    "    elif (t >= '18:00:00'):\n",
    "        return 'evening'\n",
    "    \n",
    "    elif (t >= '12:00:00'):\n",
    "        return 'afternoon'\n",
    "    \n",
    "    elif (t >= '08:00:00'):\n",
    "        return 'morning'\n",
    "    \n",
    "    else:\n",
    "        return 'night'\n",
    "    \n",
    "def flocation(x):   \n",
    "    \n",
    "    start = datetime.datetime.strptime(x['date'], '%Y-%m-%d')\n",
    "    end = datetime.datetime.strptime(x['releasedate'], '%d-%b-%Y')\n",
    "    \n",
    "    if start - end >= datetime.timedelta(180):\n",
    "        return 'home'\n",
    "    else:\n",
    "        return 'theater'    \n",
    "    \n",
    "    \n",
    "df['date'] = df.apply(fdate, axis=1)\n",
    "df['time'] = df.apply(ftime, axis=1)\n",
    "df['weekday'] = df.apply(fweekday, axis=1)\n",
    "df['agegroup'] = df.apply(fagegroup, axis=1)  \n",
    "\n",
    "df['timeofday'] = df.apply(ftimeofday, axis=1)\n",
    "\n",
    "df['location'] = df.apply(flocation, axis=1)\n",
    "df.head()"
   ]
  },
  {
   "cell_type": "code",
   "execution_count": 6,
   "metadata": {
    "collapsed": false
   },
   "outputs": [
    {
     "data": {
      "text/html": [
       "<div>\n",
       "<table border=\"1\" class=\"dataframe\">\n",
       "  <thead>\n",
       "    <tr style=\"text-align: right;\">\n",
       "      <th></th>\n",
       "      <th>date</th>\n",
       "      <th>time</th>\n",
       "      <th>weekday</th>\n",
       "      <th>agegroup</th>\n",
       "      <th>timeofday</th>\n",
       "      <th>location</th>\n",
       "    </tr>\n",
       "  </thead>\n",
       "  <tbody>\n",
       "    <tr>\n",
       "      <th>0</th>\n",
       "      <td>1997-12-04</td>\n",
       "      <td>10:55:49</td>\n",
       "      <td>Weekday</td>\n",
       "      <td>45+</td>\n",
       "      <td>morning</td>\n",
       "      <td>home</td>\n",
       "    </tr>\n",
       "    <tr>\n",
       "      <th>1</th>\n",
       "      <td>1998-04-04</td>\n",
       "      <td>15:22:22</td>\n",
       "      <td>Weekend</td>\n",
       "      <td>30-44</td>\n",
       "      <td>afternoon</td>\n",
       "      <td>home</td>\n",
       "    </tr>\n",
       "    <tr>\n",
       "      <th>2</th>\n",
       "      <td>1997-11-07</td>\n",
       "      <td>02:18:36</td>\n",
       "      <td>Weekend</td>\n",
       "      <td>19-29</td>\n",
       "      <td>night</td>\n",
       "      <td>home</td>\n",
       "    </tr>\n",
       "    <tr>\n",
       "      <th>3</th>\n",
       "      <td>1997-11-27</td>\n",
       "      <td>00:02:03</td>\n",
       "      <td>Weekday</td>\n",
       "      <td>19-29</td>\n",
       "      <td>night</td>\n",
       "      <td>home</td>\n",
       "    </tr>\n",
       "    <tr>\n",
       "      <th>4</th>\n",
       "      <td>1998-02-02</td>\n",
       "      <td>00:33:16</td>\n",
       "      <td>Weekday</td>\n",
       "      <td>45+</td>\n",
       "      <td>night</td>\n",
       "      <td>home</td>\n",
       "    </tr>\n",
       "    <tr>\n",
       "      <th>5</th>\n",
       "      <td>1998-01-07</td>\n",
       "      <td>09:20:06</td>\n",
       "      <td>Weekday</td>\n",
       "      <td>30-44</td>\n",
       "      <td>morning</td>\n",
       "      <td>home</td>\n",
       "    </tr>\n",
       "    <tr>\n",
       "      <th>6</th>\n",
       "      <td>1997-12-03</td>\n",
       "      <td>12:51:28</td>\n",
       "      <td>Weekday</td>\n",
       "      <td>30-44</td>\n",
       "      <td>afternoon</td>\n",
       "      <td>home</td>\n",
       "    </tr>\n",
       "    <tr>\n",
       "      <th>7</th>\n",
       "      <td>1998-04-03</td>\n",
       "      <td>14:34:27</td>\n",
       "      <td>Weekend</td>\n",
       "      <td>19-29</td>\n",
       "      <td>afternoon</td>\n",
       "      <td>home</td>\n",
       "    </tr>\n",
       "    <tr>\n",
       "      <th>8</th>\n",
       "      <td>1998-02-01</td>\n",
       "      <td>04:20:17</td>\n",
       "      <td>Weekend</td>\n",
       "      <td>19-29</td>\n",
       "      <td>night</td>\n",
       "      <td>home</td>\n",
       "    </tr>\n",
       "    <tr>\n",
       "      <th>9</th>\n",
       "      <td>1997-12-31</td>\n",
       "      <td>16:16:53</td>\n",
       "      <td>Weekday</td>\n",
       "      <td>30-44</td>\n",
       "      <td>afternoon</td>\n",
       "      <td>home</td>\n",
       "    </tr>\n",
       "  </tbody>\n",
       "</table>\n",
       "</div>"
      ],
      "text/plain": [
       "         date      time  weekday agegroup  timeofday location\n",
       "0  1997-12-04  10:55:49  Weekday      45+    morning     home\n",
       "1  1998-04-04  15:22:22  Weekend    30-44  afternoon     home\n",
       "2  1997-11-07  02:18:36  Weekend    19-29      night     home\n",
       "3  1997-11-27  00:02:03  Weekday    19-29      night     home\n",
       "4  1998-02-02  00:33:16  Weekday      45+      night     home\n",
       "5  1998-01-07  09:20:06  Weekday    30-44    morning     home\n",
       "6  1997-12-03  12:51:28  Weekday    30-44  afternoon     home\n",
       "7  1998-04-03  14:34:27  Weekend    19-29  afternoon     home\n",
       "8  1998-02-01  04:20:17  Weekend    19-29      night     home\n",
       "9  1997-12-31  16:16:53  Weekday    30-44  afternoon     home"
      ]
     },
     "execution_count": 6,
     "metadata": {},
     "output_type": "execute_result"
    }
   ],
   "source": [
    "df.iloc[:10,32:38]"
   ]
  },
  {
   "cell_type": "markdown",
   "metadata": {},
   "source": [
    "### Data exploration on context feature"
   ]
  },
  {
   "cell_type": "code",
   "execution_count": 7,
   "metadata": {
    "collapsed": false
   },
   "outputs": [],
   "source": [
    "c = pd.DataFrame(df['timeofday'].value_counts())"
   ]
  },
  {
   "cell_type": "code",
   "execution_count": 8,
   "metadata": {
    "collapsed": false
   },
   "outputs": [
    {
     "data": {
      "text/plain": [
       "afternoon    40303\n",
       "evening      26550\n",
       "night        20317\n",
       "morning      11853\n",
       "Name: timeofday, dtype: int64"
      ]
     },
     "execution_count": 8,
     "metadata": {},
     "output_type": "execute_result"
    }
   ],
   "source": [
    "c['timeofday']"
   ]
  },
  {
   "cell_type": "code",
   "execution_count": 9,
   "metadata": {
    "collapsed": false
   },
   "outputs": [
    {
     "data": {
      "image/png": "[encoded data removed]",
      "text/plain": [
       "<matplotlib.figure.Figure at 0xd2cee48>"
      ]
     },
     "metadata": {},
     "output_type": "display_data"
    }
   ],
   "source": [
    "plt.pie(c['timeofday'], labels = c.index )\n",
    "plt.show()"
   ]
  },
  {
   "cell_type": "code",
   "execution_count": 10,
   "metadata": {
    "collapsed": false
   },
   "outputs": [
    {
     "data": {
      "image/png": "[encoded data removed]",
      "text/plain": [
       "<matplotlib.figure.Figure at 0xc36ed30>"
      ]
     },
     "metadata": {},
     "output_type": "display_data"
    }
   ],
   "source": [
    "c = pd.DataFrame(df['location'].value_counts())\n",
    "plt.pie(c['location'], labels = c.index )\n",
    "plt.show()"
   ]
  },
  {
   "cell_type": "code",
   "execution_count": 11,
   "metadata": {
    "collapsed": false
   },
   "outputs": [
    {
     "data": {
      "image/png": "[encoded data removed]",
      "text/plain": [
       "<matplotlib.figure.Figure at 0x3fd9630>"
      ]
     },
     "metadata": {},
     "output_type": "display_data"
    }
   ],
   "source": [
    "c = pd.DataFrame(df['weekday'].value_counts())\n",
    "plt.pie(c['weekday'], labels = c.index )\n",
    "plt.show()"
   ]
  },
  {
   "cell_type": "code",
   "execution_count": 12,
   "metadata": {
    "collapsed": false
   },
   "outputs": [
    {
     "data": {
      "image/png": "[encoded data removed]",
      "text/plain": [
       "<matplotlib.figure.Figure at 0xc21e668>"
      ]
     },
     "metadata": {},
     "output_type": "display_data"
    }
   ],
   "source": [
    "c = pd.DataFrame(df['agegroup'].value_counts())\n",
    "plt.pie(c['agegroup'], labels = c.index )\n",
    "plt.show()"
   ]
  },
  {
   "cell_type": "code",
   "execution_count": 13,
   "metadata": {
    "collapsed": true
   },
   "outputs": [],
   "source": [
    "# Creating a movie names, movie id for use later on in the program\n",
    "movie_names = df[['movieid', 'movietitle']]\n",
    "movie_names = movie_names.drop_duplicates()\n"
   ]
  },
  {
   "cell_type": "markdown",
   "metadata": {},
   "source": [
    "Sparsity"
   ]
  },
  {
   "cell_type": "code",
   "execution_count": 14,
   "metadata": {
    "collapsed": true
   },
   "outputs": [],
   "source": [
    "# Function that takes movielens dataframe and return the user-movie dataframe with rating as values\n",
    "def user_movie_df(data):\n",
    "    d = data.pivot_table(index = 'userid', columns = 'movietitle', values = 'rating')\n",
    "    del d.index.name\n",
    "    return d"
   ]
  },
  {
   "cell_type": "code",
   "execution_count": 15,
   "metadata": {
    "collapsed": false
   },
   "outputs": [
    {
     "name": "stdout",
     "output_type": "stream",
     "text": [
      "0.918718672401\n"
     ]
    }
   ],
   "source": [
    "# sparsity = sum(pd.isnull(d).sum())*1.0/(d.shape[0]*d.shape[1])\n",
    "d = user_movie_df(df)\n",
    "sparsity = 1-d.count().sum()*1.0/(d.shape[0]*d.shape[1])\n",
    "print sparsity"
   ]
  },
  {
   "cell_type": "code",
   "execution_count": 16,
   "metadata": {
    "collapsed": false
   },
   "outputs": [],
   "source": [
    "# Save the User and Movie Means\n",
    "d_means = user_movie_df(df)\n",
    "user_mean = d_means.mean(axis = 1)\n",
    "movie_mean = d_means.mean(axis = 0)"
   ]
  },
  {
   "cell_type": "markdown",
   "metadata": {},
   "source": [
    "### Context-aware recommender system"
   ]
  },
  {
   "cell_type": "markdown",
   "metadata": {},
   "source": [
    "Several contextual modeling techniques are shown in the following figure.  \n",
    "\n",
    "For contextual pre-filtering (a), information about the current context C is used for selecting or constructing the relevant set of data records (i.e., ratings). Then, ratings can be predicted using any traditional 2D recommender system on the selected data.\n",
    "\n",
    "For contextual post-filtering (b), contextual information is initially ignored, and the ratings are predicted using any traditional 2D recommender system on the entire data. Then, the resulting set of recommendations is adjusted (contextualized) for each user using the contextual information.\n",
    "\n",
    "For contextual modeling (c), contextual information is used directly in the modeling technique as part of rating estimation.\n",
    "\n",
    "In this project, contextual prefiltering is chosen as our technique. \n"
   ]
  },
  {
   "cell_type": "code",
   "execution_count": 17,
   "metadata": {
    "collapsed": false
   },
   "outputs": [
    {
     "data": {
      "text/html": [
       "<img src=\"https://raw.githubusercontent.com/ddsmile/DATA643/master/context.png\"/>"
      ],
      "text/plain": [
       "<IPython.core.display.Image object>"
      ]
     },
     "execution_count": 17,
     "metadata": {},
     "output_type": "execute_result"
    }
   ],
   "source": [
    "Image(url= \"https://raw.githubusercontent.com/ddsmile/DATA643/master/context.png\")"
   ]
  },
  {
   "cell_type": "markdown",
   "metadata": {},
   "source": [
    "###  Context pre-filtering"
   ]
  },
  {
   "cell_type": "code",
   "execution_count": 18,
   "metadata": {
    "collapsed": true
   },
   "outputs": [],
   "source": [
    "# Function to pre-filter dataset with context: weekday, timeofday, location\n",
    "def prefilter (data, weekday = None, timeofday = None, location = None):\n",
    "    '''\n",
    "    The function takes the movie dataframe, \n",
    "    returns a filtered dataframe based on context weekday, timeofday and location \n",
    "    weekday: Weekday or Weekend\n",
    "    timeofday: morning, afternoon, everning, night\n",
    "    location: home, theater\n",
    "    '''\n",
    "    d = data\n",
    "    colname = (\"weekday\", \"timeofday\", \"location\")\n",
    "    findNone = [weekday, timeofday, location]\n",
    "    final = [(idx, val) for idx, val in enumerate(findNone) if val != None]\n",
    "    length = len(final)\n",
    "    for i in range(length):\n",
    "        d = d[d.ix[:,colname[final[i][0]]] == final[i][1]]\n",
    "    return d"
   ]
  },
  {
   "cell_type": "markdown",
   "metadata": {},
   "source": [
    "### Normalization with center mean\n",
    "The dataset is reduced to only contain the relevant values for the analysis which are the users, items (movies) and ratings.\n",
    "We then normalize the ratings by firstly replace the NaN values in each column with the mean rating of each movie and then subtracting the mean rating of the user from each movie the user has rated"
   ]
  },
  {
   "cell_type": "code",
   "execution_count": 19,
   "metadata": {
    "collapsed": true
   },
   "outputs": [],
   "source": [
    "# Function to normalize user-movie dataframe\n",
    "def normaldf(data):\n",
    "    # user-movie dataframe with rating as values, we drop all other fields as they are not needed\n",
    "    d = user_movie_df(data)\n",
    "    # We then fill in the NaN values with the column means\n",
    "    # which are the means for the particular movie\n",
    "    d1 = d.fillna(d.mean(axis=0))\n",
    "    # Normalization step, we normalize by subtracting the user mean from all the values\n",
    "    # d_norm = d1.apply(lambda x: x - x.mean(), axis = 1)\n",
    "    d_norm = d1.apply(lambda x: x - user_mean)\n",
    "    return d_norm"
   ]
  },
  {
   "cell_type": "code",
   "execution_count": 20,
   "metadata": {
    "collapsed": false
   },
   "outputs": [
    {
     "data": {
      "text/html": [
       "<div>\n",
       "<table border=\"1\" class=\"dataframe\">\n",
       "  <thead>\n",
       "    <tr style=\"text-align: right;\">\n",
       "      <th>movietitle</th>\n",
       "      <th>'Til There Was You (1997)</th>\n",
       "      <th>101 Dalmatians (1996)</th>\n",
       "      <th>12 Angry Men (1957)</th>\n",
       "      <th>187 (1997)</th>\n",
       "      <th>2 Days in the Valley (1996)</th>\n",
       "      <th>20,000 Leagues Under the Sea (1954)</th>\n",
       "      <th>2001: A Space Odyssey (1968)</th>\n",
       "      <th>39 Steps, The (1935)</th>\n",
       "      <th>8 1/2 (1963)</th>\n",
       "      <th>A Chef in Love (1996)</th>\n",
       "      <th>...</th>\n",
       "      <th>Wonderland (1997)</th>\n",
       "      <th>World of Apu, The (Apur Sansar) (1959)</th>\n",
       "      <th>Wrong Trousers, The (1993)</th>\n",
       "      <th>Wyatt Earp (1994)</th>\n",
       "      <th>Year of the Horse (1997)</th>\n",
       "      <th>Young Frankenstein (1974)</th>\n",
       "      <th>Young Guns (1988)</th>\n",
       "      <th>Young Guns II (1990)</th>\n",
       "      <th>Young Poisoner's Handbook, The (1995)</th>\n",
       "      <th>Zeus and Roxanne (1997)</th>\n",
       "    </tr>\n",
       "  </thead>\n",
       "  <tbody>\n",
       "    <tr>\n",
       "      <th>1</th>\n",
       "      <td>-1.283208</td>\n",
       "      <td>-1.616541</td>\n",
       "      <td>1.383459</td>\n",
       "      <td>-0.592151</td>\n",
       "      <td>-0.390735</td>\n",
       "      <td>-0.616541</td>\n",
       "      <td>0.383459</td>\n",
       "      <td>0.434306</td>\n",
       "      <td>0.199248</td>\n",
       "      <td>0.508459</td>\n",
       "      <td>...</td>\n",
       "      <td>-0.416541</td>\n",
       "      <td>0.383459</td>\n",
       "      <td>1.383459</td>\n",
       "      <td>-0.516541</td>\n",
       "      <td>-0.330827</td>\n",
       "      <td>1.383459</td>\n",
       "      <td>-0.616541</td>\n",
       "      <td>-0.843814</td>\n",
       "      <td>-0.275078</td>\n",
       "      <td>-1.449875</td>\n",
       "    </tr>\n",
       "    <tr>\n",
       "      <th>2</th>\n",
       "      <td>-1.416667</td>\n",
       "      <td>-0.841743</td>\n",
       "      <td>0.594000</td>\n",
       "      <td>-0.725610</td>\n",
       "      <td>-0.524194</td>\n",
       "      <td>-0.250000</td>\n",
       "      <td>0.219112</td>\n",
       "      <td>0.300847</td>\n",
       "      <td>0.065789</td>\n",
       "      <td>0.375000</td>\n",
       "      <td>...</td>\n",
       "      <td>-0.550000</td>\n",
       "      <td>0.250000</td>\n",
       "      <td>0.716102</td>\n",
       "      <td>-0.650000</td>\n",
       "      <td>-0.464286</td>\n",
       "      <td>0.195000</td>\n",
       "      <td>-0.542079</td>\n",
       "      <td>-0.977273</td>\n",
       "      <td>-0.408537</td>\n",
       "      <td>-1.583333</td>\n",
       "    </tr>\n",
       "    <tr>\n",
       "      <th>3</th>\n",
       "      <td>-0.440252</td>\n",
       "      <td>0.134672</td>\n",
       "      <td>1.570415</td>\n",
       "      <td>-0.773585</td>\n",
       "      <td>0.452222</td>\n",
       "      <td>0.726415</td>\n",
       "      <td>1.195527</td>\n",
       "      <td>1.277263</td>\n",
       "      <td>1.042205</td>\n",
       "      <td>1.351415</td>\n",
       "      <td>...</td>\n",
       "      <td>0.426415</td>\n",
       "      <td>1.226415</td>\n",
       "      <td>1.692517</td>\n",
       "      <td>0.326415</td>\n",
       "      <td>0.512129</td>\n",
       "      <td>1.171415</td>\n",
       "      <td>0.434336</td>\n",
       "      <td>-0.000858</td>\n",
       "      <td>0.567879</td>\n",
       "      <td>-0.606918</td>\n",
       "    </tr>\n",
       "    <tr>\n",
       "      <th>4</th>\n",
       "      <td>-2.000000</td>\n",
       "      <td>-1.425076</td>\n",
       "      <td>0.010667</td>\n",
       "      <td>-1.308943</td>\n",
       "      <td>-1.107527</td>\n",
       "      <td>-0.833333</td>\n",
       "      <td>-0.364221</td>\n",
       "      <td>-0.282486</td>\n",
       "      <td>-0.517544</td>\n",
       "      <td>-0.208333</td>\n",
       "      <td>...</td>\n",
       "      <td>0.666667</td>\n",
       "      <td>-0.333333</td>\n",
       "      <td>0.132768</td>\n",
       "      <td>-1.233333</td>\n",
       "      <td>-1.047619</td>\n",
       "      <td>-0.388333</td>\n",
       "      <td>-1.125413</td>\n",
       "      <td>-1.560606</td>\n",
       "      <td>-0.991870</td>\n",
       "      <td>-2.166667</td>\n",
       "    </tr>\n",
       "    <tr>\n",
       "      <th>5</th>\n",
       "      <td>-0.567251</td>\n",
       "      <td>-0.900585</td>\n",
       "      <td>1.443415</td>\n",
       "      <td>0.123805</td>\n",
       "      <td>0.325222</td>\n",
       "      <td>0.599415</td>\n",
       "      <td>1.099415</td>\n",
       "      <td>1.150263</td>\n",
       "      <td>0.915205</td>\n",
       "      <td>1.224415</td>\n",
       "      <td>...</td>\n",
       "      <td>0.299415</td>\n",
       "      <td>1.099415</td>\n",
       "      <td>2.099415</td>\n",
       "      <td>0.199415</td>\n",
       "      <td>0.385129</td>\n",
       "      <td>1.099415</td>\n",
       "      <td>0.307336</td>\n",
       "      <td>-0.127858</td>\n",
       "      <td>0.440879</td>\n",
       "      <td>-0.733918</td>\n",
       "    </tr>\n",
       "    <tr>\n",
       "      <th>6</th>\n",
       "      <td>-1.306090</td>\n",
       "      <td>-0.731166</td>\n",
       "      <td>0.360577</td>\n",
       "      <td>-0.615033</td>\n",
       "      <td>-0.413617</td>\n",
       "      <td>-0.139423</td>\n",
       "      <td>1.360577</td>\n",
       "      <td>0.411424</td>\n",
       "      <td>0.176366</td>\n",
       "      <td>0.485577</td>\n",
       "      <td>...</td>\n",
       "      <td>-0.439423</td>\n",
       "      <td>0.360577</td>\n",
       "      <td>0.360577</td>\n",
       "      <td>-0.539423</td>\n",
       "      <td>-0.353709</td>\n",
       "      <td>0.360577</td>\n",
       "      <td>-0.431502</td>\n",
       "      <td>-0.866696</td>\n",
       "      <td>-0.297960</td>\n",
       "      <td>-1.472756</td>\n",
       "    </tr>\n",
       "    <tr>\n",
       "      <th>7</th>\n",
       "      <td>-1.641221</td>\n",
       "      <td>-1.066298</td>\n",
       "      <td>0.025445</td>\n",
       "      <td>-0.950164</td>\n",
       "      <td>-0.748748</td>\n",
       "      <td>1.025445</td>\n",
       "      <td>1.025445</td>\n",
       "      <td>0.025445</td>\n",
       "      <td>-0.158765</td>\n",
       "      <td>0.150445</td>\n",
       "      <td>...</td>\n",
       "      <td>-0.774555</td>\n",
       "      <td>0.025445</td>\n",
       "      <td>0.491547</td>\n",
       "      <td>-0.974555</td>\n",
       "      <td>-0.688840</td>\n",
       "      <td>1.025445</td>\n",
       "      <td>-0.974555</td>\n",
       "      <td>-1.201827</td>\n",
       "      <td>-0.974555</td>\n",
       "      <td>-1.807888</td>\n",
       "    </tr>\n",
       "    <tr>\n",
       "      <th>8</th>\n",
       "      <td>-1.463277</td>\n",
       "      <td>-0.888353</td>\n",
       "      <td>0.547390</td>\n",
       "      <td>-0.772220</td>\n",
       "      <td>-0.570804</td>\n",
       "      <td>-0.296610</td>\n",
       "      <td>0.172502</td>\n",
       "      <td>0.254237</td>\n",
       "      <td>0.019179</td>\n",
       "      <td>0.328390</td>\n",
       "      <td>...</td>\n",
       "      <td>-0.596610</td>\n",
       "      <td>0.203390</td>\n",
       "      <td>0.669492</td>\n",
       "      <td>-0.696610</td>\n",
       "      <td>-0.510896</td>\n",
       "      <td>0.148390</td>\n",
       "      <td>-0.588689</td>\n",
       "      <td>-1.023883</td>\n",
       "      <td>-0.455147</td>\n",
       "      <td>-1.629944</td>\n",
       "    </tr>\n",
       "    <tr>\n",
       "      <th>9</th>\n",
       "      <td>-1.939394</td>\n",
       "      <td>-1.364470</td>\n",
       "      <td>0.071273</td>\n",
       "      <td>-1.248337</td>\n",
       "      <td>-1.046921</td>\n",
       "      <td>-0.772727</td>\n",
       "      <td>-0.303615</td>\n",
       "      <td>-0.272727</td>\n",
       "      <td>-0.456938</td>\n",
       "      <td>-0.147727</td>\n",
       "      <td>...</td>\n",
       "      <td>-1.072727</td>\n",
       "      <td>-0.272727</td>\n",
       "      <td>0.193374</td>\n",
       "      <td>-1.172727</td>\n",
       "      <td>-0.987013</td>\n",
       "      <td>-0.327727</td>\n",
       "      <td>-1.064806</td>\n",
       "      <td>-1.500000</td>\n",
       "      <td>-0.931264</td>\n",
       "      <td>-2.106061</td>\n",
       "    </tr>\n",
       "    <tr>\n",
       "      <th>10</th>\n",
       "      <td>-1.874317</td>\n",
       "      <td>-1.299393</td>\n",
       "      <td>0.792350</td>\n",
       "      <td>-1.183260</td>\n",
       "      <td>-0.981844</td>\n",
       "      <td>-0.707650</td>\n",
       "      <td>0.792350</td>\n",
       "      <td>-0.207650</td>\n",
       "      <td>-0.391861</td>\n",
       "      <td>-0.082650</td>\n",
       "      <td>...</td>\n",
       "      <td>-1.007650</td>\n",
       "      <td>-0.207650</td>\n",
       "      <td>0.258451</td>\n",
       "      <td>-1.107650</td>\n",
       "      <td>-0.921936</td>\n",
       "      <td>-0.262650</td>\n",
       "      <td>-0.999729</td>\n",
       "      <td>-1.434923</td>\n",
       "      <td>-0.866187</td>\n",
       "      <td>-2.040984</td>\n",
       "    </tr>\n",
       "  </tbody>\n",
       "</table>\n",
       "<p>10 rows × 1288 columns</p>\n",
       "</div>"
      ],
      "text/plain": [
       "movietitle  'Til There Was You (1997)  101 Dalmatians (1996)  \\\n",
       "1                           -1.283208              -1.616541   \n",
       "2                           -1.416667              -0.841743   \n",
       "3                           -0.440252               0.134672   \n",
       "4                           -2.000000              -1.425076   \n",
       "5                           -0.567251              -0.900585   \n",
       "6                           -1.306090              -0.731166   \n",
       "7                           -1.641221              -1.066298   \n",
       "8                           -1.463277              -0.888353   \n",
       "9                           -1.939394              -1.364470   \n",
       "10                          -1.874317              -1.299393   \n",
       "\n",
       "movietitle  12 Angry Men (1957)  187 (1997)  2 Days in the Valley (1996)  \\\n",
       "1                      1.383459   -0.592151                    -0.390735   \n",
       "2                      0.594000   -0.725610                    -0.524194   \n",
       "3                      1.570415   -0.773585                     0.452222   \n",
       "4                      0.010667   -1.308943                    -1.107527   \n",
       "5                      1.443415    0.123805                     0.325222   \n",
       "6                      0.360577   -0.615033                    -0.413617   \n",
       "7                      0.025445   -0.950164                    -0.748748   \n",
       "8                      0.547390   -0.772220                    -0.570804   \n",
       "9                      0.071273   -1.248337                    -1.046921   \n",
       "10                     0.792350   -1.183260                    -0.981844   \n",
       "\n",
       "movietitle  20,000 Leagues Under the Sea (1954)  2001: A Space Odyssey (1968)  \\\n",
       "1                                     -0.616541                      0.383459   \n",
       "2                                     -0.250000                      0.219112   \n",
       "3                                      0.726415                      1.195527   \n",
       "4                                     -0.833333                     -0.364221   \n",
       "5                                      0.599415                      1.099415   \n",
       "6                                     -0.139423                      1.360577   \n",
       "7                                      1.025445                      1.025445   \n",
       "8                                     -0.296610                      0.172502   \n",
       "9                                     -0.772727                     -0.303615   \n",
       "10                                    -0.707650                      0.792350   \n",
       "\n",
       "movietitle  39 Steps, The (1935)  8 1/2 (1963)  A Chef in Love (1996)  \\\n",
       "1                       0.434306      0.199248               0.508459   \n",
       "2                       0.300847      0.065789               0.375000   \n",
       "3                       1.277263      1.042205               1.351415   \n",
       "4                      -0.282486     -0.517544              -0.208333   \n",
       "5                       1.150263      0.915205               1.224415   \n",
       "6                       0.411424      0.176366               0.485577   \n",
       "7                       0.025445     -0.158765               0.150445   \n",
       "8                       0.254237      0.019179               0.328390   \n",
       "9                      -0.272727     -0.456938              -0.147727   \n",
       "10                     -0.207650     -0.391861              -0.082650   \n",
       "\n",
       "movietitle           ...             Wonderland (1997)  \\\n",
       "1                    ...                     -0.416541   \n",
       "2                    ...                     -0.550000   \n",
       "3                    ...                      0.426415   \n",
       "4                    ...                      0.666667   \n",
       "5                    ...                      0.299415   \n",
       "6                    ...                     -0.439423   \n",
       "7                    ...                     -0.774555   \n",
       "8                    ...                     -0.596610   \n",
       "9                    ...                     -1.072727   \n",
       "10                   ...                     -1.007650   \n",
       "\n",
       "movietitle  World of Apu, The (Apur Sansar) (1959)  \\\n",
       "1                                         0.383459   \n",
       "2                                         0.250000   \n",
       "3                                         1.226415   \n",
       "4                                        -0.333333   \n",
       "5                                         1.099415   \n",
       "6                                         0.360577   \n",
       "7                                         0.025445   \n",
       "8                                         0.203390   \n",
       "9                                        -0.272727   \n",
       "10                                       -0.207650   \n",
       "\n",
       "movietitle  Wrong Trousers, The (1993)  Wyatt Earp (1994)  \\\n",
       "1                             1.383459          -0.516541   \n",
       "2                             0.716102          -0.650000   \n",
       "3                             1.692517           0.326415   \n",
       "4                             0.132768          -1.233333   \n",
       "5                             2.099415           0.199415   \n",
       "6                             0.360577          -0.539423   \n",
       "7                             0.491547          -0.974555   \n",
       "8                             0.669492          -0.696610   \n",
       "9                             0.193374          -1.172727   \n",
       "10                            0.258451          -1.107650   \n",
       "\n",
       "movietitle  Year of the Horse (1997)  Young Frankenstein (1974)  \\\n",
       "1                          -0.330827                   1.383459   \n",
       "2                          -0.464286                   0.195000   \n",
       "3                           0.512129                   1.171415   \n",
       "4                          -1.047619                  -0.388333   \n",
       "5                           0.385129                   1.099415   \n",
       "6                          -0.353709                   0.360577   \n",
       "7                          -0.688840                   1.025445   \n",
       "8                          -0.510896                   0.148390   \n",
       "9                          -0.987013                  -0.327727   \n",
       "10                         -0.921936                  -0.262650   \n",
       "\n",
       "movietitle  Young Guns (1988)  Young Guns II (1990)  \\\n",
       "1                   -0.616541             -0.843814   \n",
       "2                   -0.542079             -0.977273   \n",
       "3                    0.434336             -0.000858   \n",
       "4                   -1.125413             -1.560606   \n",
       "5                    0.307336             -0.127858   \n",
       "6                   -0.431502             -0.866696   \n",
       "7                   -0.974555             -1.201827   \n",
       "8                   -0.588689             -1.023883   \n",
       "9                   -1.064806             -1.500000   \n",
       "10                  -0.999729             -1.434923   \n",
       "\n",
       "movietitle  Young Poisoner's Handbook, The (1995)  Zeus and Roxanne (1997)  \n",
       "1                                       -0.275078                -1.449875  \n",
       "2                                       -0.408537                -1.583333  \n",
       "3                                        0.567879                -0.606918  \n",
       "4                                       -0.991870                -2.166667  \n",
       "5                                        0.440879                -0.733918  \n",
       "6                                       -0.297960                -1.472756  \n",
       "7                                       -0.974555                -1.807888  \n",
       "8                                       -0.455147                -1.629944  \n",
       "9                                       -0.931264                -2.106061  \n",
       "10                                      -0.866187                -2.040984  \n",
       "\n",
       "[10 rows x 1288 columns]"
      ]
     },
     "execution_count": 20,
     "metadata": {},
     "output_type": "execute_result"
    }
   ],
   "source": [
    "d_norm = normaldf(df)\n",
    "d_norm[:10]"
   ]
  },
  {
   "cell_type": "markdown",
   "metadata": {},
   "source": [
    "## The context-prefiltering is done by:\n",
    "- Take original dataframe, run function prefilter() to get subset of dataframe\n",
    "- Create user-movie dataframe based on subset dataframe and normalize the dataframe using function normaldf()\n",
    "- Go recommendation process "
   ]
  },
  {
   "cell_type": "markdown",
   "metadata": {},
   "source": [
    "Dataset was firstly pre-filtered by different context. Here we give some examples of different pre-filtering conditions. The recommendation will just run on one subset."
   ]
  },
  {
   "cell_type": "markdown",
   "metadata": {},
   "source": [
    "- Condition 1: time of day is 'morning' and location is at 'theater'"
   ]
  },
  {
   "cell_type": "code",
   "execution_count": 21,
   "metadata": {
    "collapsed": false
   },
   "outputs": [
    {
     "name": "stdout",
     "output_type": "stream",
     "text": [
      "(509, 38)\n"
     ]
    },
    {
     "data": {
      "text/html": [
       "<div>\n",
       "<table border=\"1\" class=\"dataframe\">\n",
       "  <thead>\n",
       "    <tr style=\"text-align: right;\">\n",
       "      <th></th>\n",
       "      <th>date</th>\n",
       "      <th>time</th>\n",
       "      <th>weekday</th>\n",
       "      <th>agegroup</th>\n",
       "      <th>timeofday</th>\n",
       "      <th>location</th>\n",
       "    </tr>\n",
       "  </thead>\n",
       "  <tbody>\n",
       "    <tr>\n",
       "      <th>190</th>\n",
       "      <td>1997-10-15</td>\n",
       "      <td>09:58:33</td>\n",
       "      <td>Weekday</td>\n",
       "      <td>30-44</td>\n",
       "      <td>morning</td>\n",
       "      <td>theater</td>\n",
       "    </tr>\n",
       "    <tr>\n",
       "      <th>376</th>\n",
       "      <td>1997-10-26</td>\n",
       "      <td>11:19:32</td>\n",
       "      <td>Weekend</td>\n",
       "      <td>30-44</td>\n",
       "      <td>morning</td>\n",
       "      <td>theater</td>\n",
       "    </tr>\n",
       "    <tr>\n",
       "      <th>392</th>\n",
       "      <td>1998-02-21</td>\n",
       "      <td>10:07:15</td>\n",
       "      <td>Weekend</td>\n",
       "      <td>45+</td>\n",
       "      <td>morning</td>\n",
       "      <td>theater</td>\n",
       "    </tr>\n",
       "    <tr>\n",
       "      <th>441</th>\n",
       "      <td>1998-02-02</td>\n",
       "      <td>10:19:09</td>\n",
       "      <td>Weekday</td>\n",
       "      <td>30-44</td>\n",
       "      <td>morning</td>\n",
       "      <td>theater</td>\n",
       "    </tr>\n",
       "    <tr>\n",
       "      <th>625</th>\n",
       "      <td>1998-01-01</td>\n",
       "      <td>11:04:32</td>\n",
       "      <td>Weekday</td>\n",
       "      <td>45+</td>\n",
       "      <td>morning</td>\n",
       "      <td>theater</td>\n",
       "    </tr>\n",
       "  </tbody>\n",
       "</table>\n",
       "</div>"
      ],
      "text/plain": [
       "           date      time  weekday agegroup timeofday location\n",
       "190  1997-10-15  09:58:33  Weekday    30-44   morning  theater\n",
       "376  1997-10-26  11:19:32  Weekend    30-44   morning  theater\n",
       "392  1998-02-21  10:07:15  Weekend      45+   morning  theater\n",
       "441  1998-02-02  10:19:09  Weekday    30-44   morning  theater\n",
       "625  1998-01-01  11:04:32  Weekday      45+   morning  theater"
      ]
     },
     "execution_count": 21,
     "metadata": {},
     "output_type": "execute_result"
    }
   ],
   "source": [
    "df_filter = prefilter(df, timeofday = \"morning\", location=\"theater\")\n",
    "print df_filter.shape\n",
    "df_filter.head().iloc[:,32:38]"
   ]
  },
  {
   "cell_type": "markdown",
   "metadata": {},
   "source": [
    "- Condition 2:  weekday is 'Weekend' and location is at 'home'"
   ]
  },
  {
   "cell_type": "code",
   "execution_count": 22,
   "metadata": {
    "collapsed": false
   },
   "outputs": [
    {
     "name": "stdout",
     "output_type": "stream",
     "text": [
      "(40453, 38)\n"
     ]
    },
    {
     "data": {
      "text/html": [
       "<div>\n",
       "<table border=\"1\" class=\"dataframe\">\n",
       "  <thead>\n",
       "    <tr style=\"text-align: right;\">\n",
       "      <th></th>\n",
       "      <th>date</th>\n",
       "      <th>time</th>\n",
       "      <th>weekday</th>\n",
       "      <th>agegroup</th>\n",
       "      <th>timeofday</th>\n",
       "      <th>location</th>\n",
       "    </tr>\n",
       "  </thead>\n",
       "  <tbody>\n",
       "    <tr>\n",
       "      <th>1</th>\n",
       "      <td>1998-04-04</td>\n",
       "      <td>15:22:22</td>\n",
       "      <td>Weekend</td>\n",
       "      <td>30-44</td>\n",
       "      <td>afternoon</td>\n",
       "      <td>home</td>\n",
       "    </tr>\n",
       "    <tr>\n",
       "      <th>2</th>\n",
       "      <td>1997-11-07</td>\n",
       "      <td>02:18:36</td>\n",
       "      <td>Weekend</td>\n",
       "      <td>19-29</td>\n",
       "      <td>night</td>\n",
       "      <td>home</td>\n",
       "    </tr>\n",
       "    <tr>\n",
       "      <th>7</th>\n",
       "      <td>1998-04-03</td>\n",
       "      <td>14:34:27</td>\n",
       "      <td>Weekend</td>\n",
       "      <td>19-29</td>\n",
       "      <td>afternoon</td>\n",
       "      <td>home</td>\n",
       "    </tr>\n",
       "    <tr>\n",
       "      <th>8</th>\n",
       "      <td>1998-02-01</td>\n",
       "      <td>04:20:17</td>\n",
       "      <td>Weekend</td>\n",
       "      <td>19-29</td>\n",
       "      <td>night</td>\n",
       "      <td>home</td>\n",
       "    </tr>\n",
       "    <tr>\n",
       "      <th>12</th>\n",
       "      <td>1997-10-05</td>\n",
       "      <td>05:05:40</td>\n",
       "      <td>Weekend</td>\n",
       "      <td>30-44</td>\n",
       "      <td>night</td>\n",
       "      <td>home</td>\n",
       "    </tr>\n",
       "  </tbody>\n",
       "</table>\n",
       "</div>"
      ],
      "text/plain": [
       "          date      time  weekday agegroup  timeofday location\n",
       "1   1998-04-04  15:22:22  Weekend    30-44  afternoon     home\n",
       "2   1997-11-07  02:18:36  Weekend    19-29      night     home\n",
       "7   1998-04-03  14:34:27  Weekend    19-29  afternoon     home\n",
       "8   1998-02-01  04:20:17  Weekend    19-29      night     home\n",
       "12  1997-10-05  05:05:40  Weekend    30-44      night     home"
      ]
     },
     "execution_count": 22,
     "metadata": {},
     "output_type": "execute_result"
    }
   ],
   "source": [
    "df_filter = prefilter(df, weekday = \"Weekend\", location=\"home\")\n",
    "print df_filter.shape\n",
    "df_filter.head().iloc[:,32:38]"
   ]
  },
  {
   "cell_type": "markdown",
   "metadata": {},
   "source": [
    "- Condition 3: weekday is 'Weekend', time of day is 'afternoon' and location is at 'theater'"
   ]
  },
  {
   "cell_type": "code",
   "execution_count": 23,
   "metadata": {
    "collapsed": false
   },
   "outputs": [
    {
     "name": "stdout",
     "output_type": "stream",
     "text": [
      "(528, 38)\n"
     ]
    },
    {
     "data": {
      "text/html": [
       "<div>\n",
       "<table border=\"1\" class=\"dataframe\">\n",
       "  <thead>\n",
       "    <tr style=\"text-align: right;\">\n",
       "      <th></th>\n",
       "      <th>date</th>\n",
       "      <th>time</th>\n",
       "      <th>weekday</th>\n",
       "      <th>agegroup</th>\n",
       "      <th>timeofday</th>\n",
       "      <th>location</th>\n",
       "    </tr>\n",
       "  </thead>\n",
       "  <tbody>\n",
       "    <tr>\n",
       "      <th>192</th>\n",
       "      <td>1997-09-20</td>\n",
       "      <td>16:13:12</td>\n",
       "      <td>Weekend</td>\n",
       "      <td>19-29</td>\n",
       "      <td>afternoon</td>\n",
       "      <td>theater</td>\n",
       "    </tr>\n",
       "    <tr>\n",
       "      <th>350</th>\n",
       "      <td>1997-12-14</td>\n",
       "      <td>14:02:36</td>\n",
       "      <td>Weekend</td>\n",
       "      <td>19-29</td>\n",
       "      <td>afternoon</td>\n",
       "      <td>theater</td>\n",
       "    </tr>\n",
       "    <tr>\n",
       "      <th>486</th>\n",
       "      <td>1997-11-14</td>\n",
       "      <td>16:59:51</td>\n",
       "      <td>Weekend</td>\n",
       "      <td>19-29</td>\n",
       "      <td>afternoon</td>\n",
       "      <td>theater</td>\n",
       "    </tr>\n",
       "    <tr>\n",
       "      <th>491</th>\n",
       "      <td>1998-02-08</td>\n",
       "      <td>17:45:26</td>\n",
       "      <td>Weekend</td>\n",
       "      <td>30-44</td>\n",
       "      <td>afternoon</td>\n",
       "      <td>theater</td>\n",
       "    </tr>\n",
       "    <tr>\n",
       "      <th>531</th>\n",
       "      <td>1997-12-27</td>\n",
       "      <td>12:57:32</td>\n",
       "      <td>Weekend</td>\n",
       "      <td>30-44</td>\n",
       "      <td>afternoon</td>\n",
       "      <td>theater</td>\n",
       "    </tr>\n",
       "  </tbody>\n",
       "</table>\n",
       "</div>"
      ],
      "text/plain": [
       "           date      time  weekday agegroup  timeofday location\n",
       "192  1997-09-20  16:13:12  Weekend    19-29  afternoon  theater\n",
       "350  1997-12-14  14:02:36  Weekend    19-29  afternoon  theater\n",
       "486  1997-11-14  16:59:51  Weekend    19-29  afternoon  theater\n",
       "491  1998-02-08  17:45:26  Weekend    30-44  afternoon  theater\n",
       "531  1997-12-27  12:57:32  Weekend    30-44  afternoon  theater"
      ]
     },
     "execution_count": 23,
     "metadata": {},
     "output_type": "execute_result"
    }
   ],
   "source": [
    "df_filter = prefilter(data=df, weekday = \"Weekend\", timeofday = \"afternoon\", location = \"theater\")\n",
    "print df_filter.shape\n",
    "df_filter.head().iloc[:,32:38]"
   ]
  },
  {
   "cell_type": "markdown",
   "metadata": {},
   "source": [
    "- Condition 4: time of day is 'evening' and location is at 'home' \n",
    "We use this subset for further recommendation"
   ]
  },
  {
   "cell_type": "code",
   "execution_count": 24,
   "metadata": {
    "collapsed": false,
    "scrolled": true
   },
   "outputs": [
    {
     "name": "stdout",
     "output_type": "stream",
     "text": [
      "(25526, 38)\n"
     ]
    },
    {
     "data": {
      "text/html": [
       "<div>\n",
       "<table border=\"1\" class=\"dataframe\">\n",
       "  <thead>\n",
       "    <tr style=\"text-align: right;\">\n",
       "      <th></th>\n",
       "      <th>date</th>\n",
       "      <th>time</th>\n",
       "      <th>weekday</th>\n",
       "      <th>agegroup</th>\n",
       "      <th>timeofday</th>\n",
       "      <th>location</th>\n",
       "    </tr>\n",
       "  </thead>\n",
       "  <tbody>\n",
       "    <tr>\n",
       "      <th>14</th>\n",
       "      <td>1998-02-21</td>\n",
       "      <td>18:40:57</td>\n",
       "      <td>Weekend</td>\n",
       "      <td>30-44</td>\n",
       "      <td>evening</td>\n",
       "      <td>home</td>\n",
       "    </tr>\n",
       "    <tr>\n",
       "      <th>19</th>\n",
       "      <td>1998-04-08</td>\n",
       "      <td>19:47:17</td>\n",
       "      <td>Weekday</td>\n",
       "      <td>45+</td>\n",
       "      <td>evening</td>\n",
       "      <td>home</td>\n",
       "    </tr>\n",
       "    <tr>\n",
       "      <th>26</th>\n",
       "      <td>1998-04-12</td>\n",
       "      <td>21:14:54</td>\n",
       "      <td>Weekend</td>\n",
       "      <td>19-29</td>\n",
       "      <td>evening</td>\n",
       "      <td>home</td>\n",
       "    </tr>\n",
       "    <tr>\n",
       "      <th>28</th>\n",
       "      <td>1997-10-01</td>\n",
       "      <td>19:10:01</td>\n",
       "      <td>Weekday</td>\n",
       "      <td>30-44</td>\n",
       "      <td>evening</td>\n",
       "      <td>home</td>\n",
       "    </tr>\n",
       "    <tr>\n",
       "      <th>30</th>\n",
       "      <td>1997-10-16</td>\n",
       "      <td>21:38:49</td>\n",
       "      <td>Weekday</td>\n",
       "      <td>19-29</td>\n",
       "      <td>evening</td>\n",
       "      <td>home</td>\n",
       "    </tr>\n",
       "  </tbody>\n",
       "</table>\n",
       "</div>"
      ],
      "text/plain": [
       "          date      time  weekday agegroup timeofday location\n",
       "14  1998-02-21  18:40:57  Weekend    30-44   evening     home\n",
       "19  1998-04-08  19:47:17  Weekday      45+   evening     home\n",
       "26  1998-04-12  21:14:54  Weekend    19-29   evening     home\n",
       "28  1997-10-01  19:10:01  Weekday    30-44   evening     home\n",
       "30  1997-10-16  21:38:49  Weekday    19-29   evening     home"
      ]
     },
     "execution_count": 24,
     "metadata": {},
     "output_type": "execute_result"
    }
   ],
   "source": [
    "df_filter = prefilter(df, timeofday = \"evening\", location=\"home\")\n",
    "print df_filter.shape\n",
    "df_filter.head().iloc[:,32:38]"
   ]
  },
  {
   "cell_type": "code",
   "execution_count": 25,
   "metadata": {
    "collapsed": false
   },
   "outputs": [],
   "source": [
    "# keep only users, movies and ratings\n",
    "df_f = user_movie_df(df_filter)\n",
    "# df_f.head()"
   ]
  },
  {
   "cell_type": "code",
   "execution_count": 26,
   "metadata": {
    "collapsed": false
   },
   "outputs": [
    {
     "data": {
      "text/plain": [
       "(423, 1219)"
      ]
     },
     "execution_count": 26,
     "metadata": {},
     "output_type": "execute_result"
    }
   ],
   "source": [
    "df_f.shape"
   ]
  },
  {
   "cell_type": "code",
   "execution_count": 27,
   "metadata": {
    "collapsed": true
   },
   "outputs": [],
   "source": [
    "def tempNormalize(data):\n",
    "    d = data.fillna(movie_mean, axis = 0)\n",
    "#     print d.head()\n",
    "    d = d.apply(lambda x: x - user_mean)\n",
    "    d = d.dropna()\n",
    "    return d"
   ]
  },
  {
   "cell_type": "code",
   "execution_count": 28,
   "metadata": {
    "collapsed": false
   },
   "outputs": [
    {
     "data": {
      "text/plain": [
       "(423, 1219)"
      ]
     },
     "execution_count": 28,
     "metadata": {},
     "output_type": "execute_result"
    }
   ],
   "source": [
    "#df_subset = normaldf(df)[df_f.index.isin(normaldf(df).index)]\n",
    "df_subset = tempNormalize(df_f)\n",
    "df_subset.shape"
   ]
  },
  {
   "cell_type": "code",
   "execution_count": 29,
   "metadata": {
    "collapsed": false
   },
   "outputs": [],
   "source": [
    "d_norm = df_subset"
   ]
  },
  {
   "cell_type": "code",
   "execution_count": 30,
   "metadata": {
    "collapsed": false
   },
   "outputs": [
    {
     "data": {
      "text/html": [
       "<div>\n",
       "<table border=\"1\" class=\"dataframe\">\n",
       "  <thead>\n",
       "    <tr style=\"text-align: right;\">\n",
       "      <th>movietitle</th>\n",
       "      <th>'Til There Was You (1997)</th>\n",
       "      <th>101 Dalmatians (1996)</th>\n",
       "      <th>12 Angry Men (1957)</th>\n",
       "      <th>187 (1997)</th>\n",
       "      <th>2 Days in the Valley (1996)</th>\n",
       "      <th>20,000 Leagues Under the Sea (1954)</th>\n",
       "      <th>2001: A Space Odyssey (1968)</th>\n",
       "      <th>39 Steps, The (1935)</th>\n",
       "      <th>8 1/2 (1963)</th>\n",
       "      <th>A Chef in Love (1996)</th>\n",
       "      <th>...</th>\n",
       "      <th>Wonderland (1997)</th>\n",
       "      <th>World of Apu, The (Apur Sansar) (1959)</th>\n",
       "      <th>Wrong Trousers, The (1993)</th>\n",
       "      <th>Wyatt Earp (1994)</th>\n",
       "      <th>Year of the Horse (1997)</th>\n",
       "      <th>Young Frankenstein (1974)</th>\n",
       "      <th>Young Guns (1988)</th>\n",
       "      <th>Young Guns II (1990)</th>\n",
       "      <th>Young Poisoner's Handbook, The (1995)</th>\n",
       "      <th>Zeus and Roxanne (1997)</th>\n",
       "    </tr>\n",
       "  </thead>\n",
       "  <tbody>\n",
       "    <tr>\n",
       "      <th>1</th>\n",
       "      <td>-1.283208</td>\n",
       "      <td>-0.708284</td>\n",
       "      <td>0.727459</td>\n",
       "      <td>-0.592151</td>\n",
       "      <td>-0.390735</td>\n",
       "      <td>-0.116541</td>\n",
       "      <td>0.352571</td>\n",
       "      <td>0.434306</td>\n",
       "      <td>0.199248</td>\n",
       "      <td>0.508459</td>\n",
       "      <td>...</td>\n",
       "      <td>-0.416541</td>\n",
       "      <td>0.383459</td>\n",
       "      <td>0.849560</td>\n",
       "      <td>-0.516541</td>\n",
       "      <td>-0.330827</td>\n",
       "      <td>0.328459</td>\n",
       "      <td>-0.408621</td>\n",
       "      <td>-0.843814</td>\n",
       "      <td>-0.275078</td>\n",
       "      <td>-1.449875</td>\n",
       "    </tr>\n",
       "    <tr>\n",
       "      <th>2</th>\n",
       "      <td>-1.416667</td>\n",
       "      <td>-0.841743</td>\n",
       "      <td>0.594000</td>\n",
       "      <td>-0.725610</td>\n",
       "      <td>-0.524194</td>\n",
       "      <td>-0.250000</td>\n",
       "      <td>0.219112</td>\n",
       "      <td>0.300847</td>\n",
       "      <td>0.065789</td>\n",
       "      <td>0.375000</td>\n",
       "      <td>...</td>\n",
       "      <td>-0.550000</td>\n",
       "      <td>0.250000</td>\n",
       "      <td>0.716102</td>\n",
       "      <td>-0.650000</td>\n",
       "      <td>-0.464286</td>\n",
       "      <td>0.195000</td>\n",
       "      <td>-0.542079</td>\n",
       "      <td>-0.977273</td>\n",
       "      <td>-0.408537</td>\n",
       "      <td>-1.583333</td>\n",
       "    </tr>\n",
       "    <tr>\n",
       "      <th>3</th>\n",
       "      <td>-0.440252</td>\n",
       "      <td>0.134672</td>\n",
       "      <td>1.570415</td>\n",
       "      <td>-0.773585</td>\n",
       "      <td>0.452222</td>\n",
       "      <td>0.726415</td>\n",
       "      <td>1.195527</td>\n",
       "      <td>1.277263</td>\n",
       "      <td>1.042205</td>\n",
       "      <td>1.351415</td>\n",
       "      <td>...</td>\n",
       "      <td>0.426415</td>\n",
       "      <td>1.226415</td>\n",
       "      <td>1.692517</td>\n",
       "      <td>0.326415</td>\n",
       "      <td>0.512129</td>\n",
       "      <td>1.171415</td>\n",
       "      <td>0.434336</td>\n",
       "      <td>-0.000858</td>\n",
       "      <td>0.567879</td>\n",
       "      <td>-0.606918</td>\n",
       "    </tr>\n",
       "    <tr>\n",
       "      <th>4</th>\n",
       "      <td>-2.000000</td>\n",
       "      <td>-1.425076</td>\n",
       "      <td>0.010667</td>\n",
       "      <td>-1.308943</td>\n",
       "      <td>-1.107527</td>\n",
       "      <td>-0.833333</td>\n",
       "      <td>-0.364221</td>\n",
       "      <td>-0.282486</td>\n",
       "      <td>-0.517544</td>\n",
       "      <td>-0.208333</td>\n",
       "      <td>...</td>\n",
       "      <td>0.666667</td>\n",
       "      <td>-0.333333</td>\n",
       "      <td>0.132768</td>\n",
       "      <td>-1.233333</td>\n",
       "      <td>-1.047619</td>\n",
       "      <td>-0.388333</td>\n",
       "      <td>-1.125413</td>\n",
       "      <td>-1.560606</td>\n",
       "      <td>-0.991870</td>\n",
       "      <td>-2.166667</td>\n",
       "    </tr>\n",
       "    <tr>\n",
       "      <th>6</th>\n",
       "      <td>-1.306090</td>\n",
       "      <td>-0.731166</td>\n",
       "      <td>0.704577</td>\n",
       "      <td>-0.615033</td>\n",
       "      <td>-0.413617</td>\n",
       "      <td>-0.139423</td>\n",
       "      <td>0.329689</td>\n",
       "      <td>0.411424</td>\n",
       "      <td>0.176366</td>\n",
       "      <td>0.485577</td>\n",
       "      <td>...</td>\n",
       "      <td>-0.439423</td>\n",
       "      <td>0.360577</td>\n",
       "      <td>0.826679</td>\n",
       "      <td>-0.539423</td>\n",
       "      <td>-0.353709</td>\n",
       "      <td>0.305577</td>\n",
       "      <td>-0.431502</td>\n",
       "      <td>-0.866696</td>\n",
       "      <td>-0.297960</td>\n",
       "      <td>-1.472756</td>\n",
       "    </tr>\n",
       "  </tbody>\n",
       "</table>\n",
       "<p>5 rows × 1219 columns</p>\n",
       "</div>"
      ],
      "text/plain": [
       "movietitle  'Til There Was You (1997)  101 Dalmatians (1996)  \\\n",
       "1                           -1.283208              -0.708284   \n",
       "2                           -1.416667              -0.841743   \n",
       "3                           -0.440252               0.134672   \n",
       "4                           -2.000000              -1.425076   \n",
       "6                           -1.306090              -0.731166   \n",
       "\n",
       "movietitle  12 Angry Men (1957)  187 (1997)  2 Days in the Valley (1996)  \\\n",
       "1                      0.727459   -0.592151                    -0.390735   \n",
       "2                      0.594000   -0.725610                    -0.524194   \n",
       "3                      1.570415   -0.773585                     0.452222   \n",
       "4                      0.010667   -1.308943                    -1.107527   \n",
       "6                      0.704577   -0.615033                    -0.413617   \n",
       "\n",
       "movietitle  20,000 Leagues Under the Sea (1954)  2001: A Space Odyssey (1968)  \\\n",
       "1                                     -0.116541                      0.352571   \n",
       "2                                     -0.250000                      0.219112   \n",
       "3                                      0.726415                      1.195527   \n",
       "4                                     -0.833333                     -0.364221   \n",
       "6                                     -0.139423                      0.329689   \n",
       "\n",
       "movietitle  39 Steps, The (1935)  8 1/2 (1963)  A Chef in Love (1996)  \\\n",
       "1                       0.434306      0.199248               0.508459   \n",
       "2                       0.300847      0.065789               0.375000   \n",
       "3                       1.277263      1.042205               1.351415   \n",
       "4                      -0.282486     -0.517544              -0.208333   \n",
       "6                       0.411424      0.176366               0.485577   \n",
       "\n",
       "movietitle           ...             Wonderland (1997)  \\\n",
       "1                    ...                     -0.416541   \n",
       "2                    ...                     -0.550000   \n",
       "3                    ...                      0.426415   \n",
       "4                    ...                      0.666667   \n",
       "6                    ...                     -0.439423   \n",
       "\n",
       "movietitle  World of Apu, The (Apur Sansar) (1959)  \\\n",
       "1                                         0.383459   \n",
       "2                                         0.250000   \n",
       "3                                         1.226415   \n",
       "4                                        -0.333333   \n",
       "6                                         0.360577   \n",
       "\n",
       "movietitle  Wrong Trousers, The (1993)  Wyatt Earp (1994)  \\\n",
       "1                             0.849560          -0.516541   \n",
       "2                             0.716102          -0.650000   \n",
       "3                             1.692517           0.326415   \n",
       "4                             0.132768          -1.233333   \n",
       "6                             0.826679          -0.539423   \n",
       "\n",
       "movietitle  Year of the Horse (1997)  Young Frankenstein (1974)  \\\n",
       "1                          -0.330827                   0.328459   \n",
       "2                          -0.464286                   0.195000   \n",
       "3                           0.512129                   1.171415   \n",
       "4                          -1.047619                  -0.388333   \n",
       "6                          -0.353709                   0.305577   \n",
       "\n",
       "movietitle  Young Guns (1988)  Young Guns II (1990)  \\\n",
       "1                   -0.408621             -0.843814   \n",
       "2                   -0.542079             -0.977273   \n",
       "3                    0.434336             -0.000858   \n",
       "4                   -1.125413             -1.560606   \n",
       "6                   -0.431502             -0.866696   \n",
       "\n",
       "movietitle  Young Poisoner's Handbook, The (1995)  Zeus and Roxanne (1997)  \n",
       "1                                       -0.275078                -1.449875  \n",
       "2                                       -0.408537                -1.583333  \n",
       "3                                        0.567879                -0.606918  \n",
       "4                                       -0.991870                -2.166667  \n",
       "6                                       -0.297960                -1.472756  \n",
       "\n",
       "[5 rows x 1219 columns]"
      ]
     },
     "execution_count": 30,
     "metadata": {},
     "output_type": "execute_result"
    }
   ],
   "source": [
    "d_norm.head()"
   ]
  },
  {
   "cell_type": "markdown",
   "metadata": {},
   "source": [
    "### SVD on user-movie dataframe"
   ]
  },
  {
   "cell_type": "code",
   "execution_count": 31,
   "metadata": {
    "collapsed": true
   },
   "outputs": [],
   "source": [
    "# Find k from sigma using arbitrary cutoff value\n",
    "# Using the L2 norm of the first k elements divided by the L2 norm of all element.\n",
    "def findK(sigma, cutoff = 0.85):\n",
    "    totalNorm = np.linalg.norm(sigma)\n",
    "    for i in range(len(sigma)):\n",
    "        subNorm = np.linalg.norm(sigma[:i])\n",
    "        if subNorm/totalNorm >= cutoff:\n",
    "            return i"
   ]
  },
  {
   "cell_type": "code",
   "execution_count": 32,
   "metadata": {
    "collapsed": false
   },
   "outputs": [],
   "source": [
    "def svdFunction(data):\n",
    "    U, sigma, V = np.linalg.svd(d_norm, full_matrices=False)\n",
    "    V_df = pd.DataFrame(V, columns=d_norm.columns)\n",
    "    print U.shape, V.shape, sigma.shape\n",
    "    #print (np.round(d_norm - np.dot(U, np.dot(np.diag(sigma), V)), decimals=1)).ix[:10, :3]\n",
    "    #print sigma[:20]\n",
    "    plt.plot(sigma)\n",
    "    plt.show()\n",
    "    k = findK(sigma, 0.95)\n",
    "    print \"k = \", k\n",
    "    # k = 100\n",
    "    # A_approx = np.matrix(U[:, :k]) * np.diag(sigma[:k]) * np.matrix(V[:k, :])\n",
    "    A_approx = np.dot(U[:, :k], np.dot(np.diag(sigma[:k]), V[:k, :]))\n",
    "    print A_approx.shape\n",
    "    sv = pd.DataFrame(A_approx, columns = d_norm.columns)\n",
    "    sv.index = d_norm.index\n",
    "    \n",
    "    return sv"
   ]
  },
  {
   "cell_type": "code",
   "execution_count": 33,
   "metadata": {
    "collapsed": false
   },
   "outputs": [
    {
     "name": "stdout",
     "output_type": "stream",
     "text": [
      "(423L, 423L) (423L, 1219L) (423L,)\n"
     ]
    },
    {
     "data": {
      "image/png": "[encoded data removed]",
      "text/plain": [
       "<matplotlib.figure.Figure at 0xc21edd8>"
      ]
     },
     "metadata": {},
     "output_type": "display_data"
    },
    {
     "name": "stdout",
     "output_type": "stream",
     "text": [
      "k =  2\n",
      "(423L, 1219L)\n"
     ]
    }
   ],
   "source": [
    "w = svdFunction(d_norm)"
   ]
  },
  {
   "cell_type": "code",
   "execution_count": 34,
   "metadata": {
    "collapsed": false
   },
   "outputs": [
    {
     "data": {
      "text/html": [
       "<div>\n",
       "<table border=\"1\" class=\"dataframe\">\n",
       "  <thead>\n",
       "    <tr style=\"text-align: right;\">\n",
       "      <th>movietitle</th>\n",
       "      <th>'Til There Was You (1997)</th>\n",
       "      <th>101 Dalmatians (1996)</th>\n",
       "      <th>12 Angry Men (1957)</th>\n",
       "      <th>187 (1997)</th>\n",
       "      <th>2 Days in the Valley (1996)</th>\n",
       "      <th>20,000 Leagues Under the Sea (1954)</th>\n",
       "      <th>2001: A Space Odyssey (1968)</th>\n",
       "      <th>39 Steps, The (1935)</th>\n",
       "      <th>8 1/2 (1963)</th>\n",
       "      <th>A Chef in Love (1996)</th>\n",
       "      <th>...</th>\n",
       "      <th>Wonderland (1997)</th>\n",
       "      <th>World of Apu, The (Apur Sansar) (1959)</th>\n",
       "      <th>Wrong Trousers, The (1993)</th>\n",
       "      <th>Wyatt Earp (1994)</th>\n",
       "      <th>Year of the Horse (1997)</th>\n",
       "      <th>Young Frankenstein (1974)</th>\n",
       "      <th>Young Guns (1988)</th>\n",
       "      <th>Young Guns II (1990)</th>\n",
       "      <th>Young Poisoner's Handbook, The (1995)</th>\n",
       "      <th>Zeus and Roxanne (1997)</th>\n",
       "    </tr>\n",
       "  </thead>\n",
       "  <tbody>\n",
       "    <tr>\n",
       "      <th>1</th>\n",
       "      <td>-1.298895</td>\n",
       "      <td>-0.705173</td>\n",
       "      <td>0.768094</td>\n",
       "      <td>-0.594847</td>\n",
       "      <td>-0.385317</td>\n",
       "      <td>-0.102688</td>\n",
       "      <td>0.390679</td>\n",
       "      <td>0.456043</td>\n",
       "      <td>0.215408</td>\n",
       "      <td>0.532421</td>\n",
       "      <td>...</td>\n",
       "      <td>-0.407598</td>\n",
       "      <td>0.407266</td>\n",
       "      <td>0.876092</td>\n",
       "      <td>-0.514866</td>\n",
       "      <td>-0.325111</td>\n",
       "      <td>0.367024</td>\n",
       "      <td>-0.400056</td>\n",
       "      <td>-0.849018</td>\n",
       "      <td>-0.268032</td>\n",
       "      <td>-1.474693</td>\n",
       "    </tr>\n",
       "    <tr>\n",
       "      <th>2</th>\n",
       "      <td>-1.420505</td>\n",
       "      <td>-0.827610</td>\n",
       "      <td>0.599353</td>\n",
       "      <td>-0.730632</td>\n",
       "      <td>-0.518533</td>\n",
       "      <td>-0.247166</td>\n",
       "      <td>0.240455</td>\n",
       "      <td>0.290418</td>\n",
       "      <td>0.053552</td>\n",
       "      <td>0.361915</td>\n",
       "      <td>...</td>\n",
       "      <td>-0.550960</td>\n",
       "      <td>0.240245</td>\n",
       "      <td>0.699771</td>\n",
       "      <td>-0.652888</td>\n",
       "      <td>-0.472031</td>\n",
       "      <td>0.211421</td>\n",
       "      <td>-0.539220</td>\n",
       "      <td>-0.977540</td>\n",
       "      <td>-0.409433</td>\n",
       "      <td>-1.590601</td>\n",
       "    </tr>\n",
       "    <tr>\n",
       "      <th>3</th>\n",
       "      <td>-0.446842</td>\n",
       "      <td>0.060103</td>\n",
       "      <td>1.555457</td>\n",
       "      <td>0.225093</td>\n",
       "      <td>0.388648</td>\n",
       "      <td>0.688279</td>\n",
       "      <td>1.136674</td>\n",
       "      <td>1.274636</td>\n",
       "      <td>1.050739</td>\n",
       "      <td>1.365462</td>\n",
       "      <td>...</td>\n",
       "      <td>0.424229</td>\n",
       "      <td>1.240837</td>\n",
       "      <td>1.687532</td>\n",
       "      <td>0.304791</td>\n",
       "      <td>0.513129</td>\n",
       "      <td>1.145513</td>\n",
       "      <td>0.408087</td>\n",
       "      <td>-0.028996</td>\n",
       "      <td>0.531824</td>\n",
       "      <td>-0.626228</td>\n",
       "    </tr>\n",
       "    <tr>\n",
       "      <th>4</th>\n",
       "      <td>-1.996765</td>\n",
       "      <td>-1.355159</td>\n",
       "      <td>0.024280</td>\n",
       "      <td>-1.299339</td>\n",
       "      <td>-1.059161</td>\n",
       "      <td>-0.805965</td>\n",
       "      <td>-0.297115</td>\n",
       "      <td>-0.300059</td>\n",
       "      <td>-0.543593</td>\n",
       "      <td>-0.240460</td>\n",
       "      <td>...</td>\n",
       "      <td>-1.132147</td>\n",
       "      <td>-0.359801</td>\n",
       "      <td>0.105284</td>\n",
       "      <td>-1.223124</td>\n",
       "      <td>-1.059551</td>\n",
       "      <td>-0.348685</td>\n",
       "      <td>-1.103772</td>\n",
       "      <td>-1.540809</td>\n",
       "      <td>-0.970962</td>\n",
       "      <td>-2.160514</td>\n",
       "    </tr>\n",
       "    <tr>\n",
       "      <th>6</th>\n",
       "      <td>-1.310644</td>\n",
       "      <td>-0.729607</td>\n",
       "      <td>0.698019</td>\n",
       "      <td>-0.625862</td>\n",
       "      <td>-0.419893</td>\n",
       "      <td>-0.146781</td>\n",
       "      <td>0.334426</td>\n",
       "      <td>0.393493</td>\n",
       "      <td>0.159098</td>\n",
       "      <td>0.466711</td>\n",
       "      <td>...</td>\n",
       "      <td>-0.444955</td>\n",
       "      <td>0.345289</td>\n",
       "      <td>0.801331</td>\n",
       "      <td>-0.548270</td>\n",
       "      <td>-0.365333</td>\n",
       "      <td>0.309544</td>\n",
       "      <td>-0.436228</td>\n",
       "      <td>-0.872391</td>\n",
       "      <td>-0.307681</td>\n",
       "      <td>-1.480940</td>\n",
       "    </tr>\n",
       "  </tbody>\n",
       "</table>\n",
       "<p>5 rows × 1219 columns</p>\n",
       "</div>"
      ],
      "text/plain": [
       "movietitle  'Til There Was You (1997)  101 Dalmatians (1996)  \\\n",
       "1                           -1.298895              -0.705173   \n",
       "2                           -1.420505              -0.827610   \n",
       "3                           -0.446842               0.060103   \n",
       "4                           -1.996765              -1.355159   \n",
       "6                           -1.310644              -0.729607   \n",
       "\n",
       "movietitle  12 Angry Men (1957)  187 (1997)  2 Days in the Valley (1996)  \\\n",
       "1                      0.768094   -0.594847                    -0.385317   \n",
       "2                      0.599353   -0.730632                    -0.518533   \n",
       "3                      1.555457    0.225093                     0.388648   \n",
       "4                      0.024280   -1.299339                    -1.059161   \n",
       "6                      0.698019   -0.625862                    -0.419893   \n",
       "\n",
       "movietitle  20,000 Leagues Under the Sea (1954)  2001: A Space Odyssey (1968)  \\\n",
       "1                                     -0.102688                      0.390679   \n",
       "2                                     -0.247166                      0.240455   \n",
       "3                                      0.688279                      1.136674   \n",
       "4                                     -0.805965                     -0.297115   \n",
       "6                                     -0.146781                      0.334426   \n",
       "\n",
       "movietitle  39 Steps, The (1935)  8 1/2 (1963)  A Chef in Love (1996)  \\\n",
       "1                       0.456043      0.215408               0.532421   \n",
       "2                       0.290418      0.053552               0.361915   \n",
       "3                       1.274636      1.050739               1.365462   \n",
       "4                      -0.300059     -0.543593              -0.240460   \n",
       "6                       0.393493      0.159098               0.466711   \n",
       "\n",
       "movietitle           ...             Wonderland (1997)  \\\n",
       "1                    ...                     -0.407598   \n",
       "2                    ...                     -0.550960   \n",
       "3                    ...                      0.424229   \n",
       "4                    ...                     -1.132147   \n",
       "6                    ...                     -0.444955   \n",
       "\n",
       "movietitle  World of Apu, The (Apur Sansar) (1959)  \\\n",
       "1                                         0.407266   \n",
       "2                                         0.240245   \n",
       "3                                         1.240837   \n",
       "4                                        -0.359801   \n",
       "6                                         0.345289   \n",
       "\n",
       "movietitle  Wrong Trousers, The (1993)  Wyatt Earp (1994)  \\\n",
       "1                             0.876092          -0.514866   \n",
       "2                             0.699771          -0.652888   \n",
       "3                             1.687532           0.304791   \n",
       "4                             0.105284          -1.223124   \n",
       "6                             0.801331          -0.548270   \n",
       "\n",
       "movietitle  Year of the Horse (1997)  Young Frankenstein (1974)  \\\n",
       "1                          -0.325111                   0.367024   \n",
       "2                          -0.472031                   0.211421   \n",
       "3                           0.513129                   1.145513   \n",
       "4                          -1.059551                  -0.348685   \n",
       "6                          -0.365333                   0.309544   \n",
       "\n",
       "movietitle  Young Guns (1988)  Young Guns II (1990)  \\\n",
       "1                   -0.400056             -0.849018   \n",
       "2                   -0.539220             -0.977540   \n",
       "3                    0.408087             -0.028996   \n",
       "4                   -1.103772             -1.540809   \n",
       "6                   -0.436228             -0.872391   \n",
       "\n",
       "movietitle  Young Poisoner's Handbook, The (1995)  Zeus and Roxanne (1997)  \n",
       "1                                       -0.268032                -1.474693  \n",
       "2                                       -0.409433                -1.590601  \n",
       "3                                        0.531824                -0.626228  \n",
       "4                                       -0.970962                -2.160514  \n",
       "6                                       -0.307681                -1.480940  \n",
       "\n",
       "[5 rows x 1219 columns]"
      ]
     },
     "execution_count": 34,
     "metadata": {},
     "output_type": "execute_result"
    }
   ],
   "source": [
    "w.head()"
   ]
  },
  {
   "cell_type": "code",
   "execution_count": 35,
   "metadata": {
    "collapsed": true
   },
   "outputs": [],
   "source": [
    "def addBackMean(data, user_mean, movie_mean):\n",
    "        svd_ratings = data.apply(lambda x: x + user_mean, axis = 0)\n",
    "        #svd_ratings = svd_ratings.apply(lambda x: x - movie_mean, axis = 1)\n",
    "        svd_ratings = svd_ratings.dropna()\n",
    "        return svd_ratings\n"
   ]
  },
  {
   "cell_type": "code",
   "execution_count": 36,
   "metadata": {
    "collapsed": false
   },
   "outputs": [],
   "source": [
    "x = addBackMean(w, user_mean, movie_mean)"
   ]
  },
  {
   "cell_type": "code",
   "execution_count": 37,
   "metadata": {
    "collapsed": false
   },
   "outputs": [
    {
     "data": {
      "text/html": [
       "<div>\n",
       "<table border=\"1\" class=\"dataframe\">\n",
       "  <thead>\n",
       "    <tr style=\"text-align: right;\">\n",
       "      <th>movietitle</th>\n",
       "      <th>'Til There Was You (1997)</th>\n",
       "      <th>101 Dalmatians (1996)</th>\n",
       "      <th>12 Angry Men (1957)</th>\n",
       "      <th>187 (1997)</th>\n",
       "      <th>2 Days in the Valley (1996)</th>\n",
       "      <th>20,000 Leagues Under the Sea (1954)</th>\n",
       "      <th>2001: A Space Odyssey (1968)</th>\n",
       "      <th>39 Steps, The (1935)</th>\n",
       "      <th>8 1/2 (1963)</th>\n",
       "      <th>A Chef in Love (1996)</th>\n",
       "      <th>...</th>\n",
       "      <th>Wonderland (1997)</th>\n",
       "      <th>World of Apu, The (Apur Sansar) (1959)</th>\n",
       "      <th>Wrong Trousers, The (1993)</th>\n",
       "      <th>Wyatt Earp (1994)</th>\n",
       "      <th>Year of the Horse (1997)</th>\n",
       "      <th>Young Frankenstein (1974)</th>\n",
       "      <th>Young Guns (1988)</th>\n",
       "      <th>Young Guns II (1990)</th>\n",
       "      <th>Young Poisoner's Handbook, The (1995)</th>\n",
       "      <th>Zeus and Roxanne (1997)</th>\n",
       "    </tr>\n",
       "  </thead>\n",
       "  <tbody>\n",
       "    <tr>\n",
       "      <th>1</th>\n",
       "      <td>2.317647</td>\n",
       "      <td>2.911369</td>\n",
       "      <td>4.384636</td>\n",
       "      <td>3.021694</td>\n",
       "      <td>3.231224</td>\n",
       "      <td>3.513854</td>\n",
       "      <td>4.007220</td>\n",
       "      <td>4.072585</td>\n",
       "      <td>3.831949</td>\n",
       "      <td>4.148962</td>\n",
       "      <td>...</td>\n",
       "      <td>3.208944</td>\n",
       "      <td>4.023807</td>\n",
       "      <td>4.492633</td>\n",
       "      <td>3.101675</td>\n",
       "      <td>3.291430</td>\n",
       "      <td>3.983565</td>\n",
       "      <td>3.216485</td>\n",
       "      <td>2.767524</td>\n",
       "      <td>3.348509</td>\n",
       "      <td>2.141848</td>\n",
       "    </tr>\n",
       "    <tr>\n",
       "      <th>2</th>\n",
       "      <td>2.329495</td>\n",
       "      <td>2.922390</td>\n",
       "      <td>4.349353</td>\n",
       "      <td>3.019368</td>\n",
       "      <td>3.231467</td>\n",
       "      <td>3.502834</td>\n",
       "      <td>3.990455</td>\n",
       "      <td>4.040418</td>\n",
       "      <td>3.803552</td>\n",
       "      <td>4.111915</td>\n",
       "      <td>...</td>\n",
       "      <td>3.199040</td>\n",
       "      <td>3.990245</td>\n",
       "      <td>4.449771</td>\n",
       "      <td>3.097112</td>\n",
       "      <td>3.277969</td>\n",
       "      <td>3.961421</td>\n",
       "      <td>3.210780</td>\n",
       "      <td>2.772460</td>\n",
       "      <td>3.340567</td>\n",
       "      <td>2.159399</td>\n",
       "    </tr>\n",
       "    <tr>\n",
       "      <th>3</th>\n",
       "      <td>2.326743</td>\n",
       "      <td>2.833688</td>\n",
       "      <td>4.329042</td>\n",
       "      <td>2.998678</td>\n",
       "      <td>3.162233</td>\n",
       "      <td>3.461863</td>\n",
       "      <td>3.910258</td>\n",
       "      <td>4.048221</td>\n",
       "      <td>3.824324</td>\n",
       "      <td>4.139046</td>\n",
       "      <td>...</td>\n",
       "      <td>3.197814</td>\n",
       "      <td>4.014422</td>\n",
       "      <td>4.461117</td>\n",
       "      <td>3.078376</td>\n",
       "      <td>3.286714</td>\n",
       "      <td>3.919097</td>\n",
       "      <td>3.181672</td>\n",
       "      <td>2.744588</td>\n",
       "      <td>3.305408</td>\n",
       "      <td>2.147357</td>\n",
       "    </tr>\n",
       "    <tr>\n",
       "      <th>4</th>\n",
       "      <td>2.336569</td>\n",
       "      <td>2.978174</td>\n",
       "      <td>4.357613</td>\n",
       "      <td>3.033994</td>\n",
       "      <td>3.274172</td>\n",
       "      <td>3.527368</td>\n",
       "      <td>4.036218</td>\n",
       "      <td>4.033275</td>\n",
       "      <td>3.789740</td>\n",
       "      <td>4.092873</td>\n",
       "      <td>...</td>\n",
       "      <td>3.201187</td>\n",
       "      <td>3.973533</td>\n",
       "      <td>4.438618</td>\n",
       "      <td>3.110209</td>\n",
       "      <td>3.273782</td>\n",
       "      <td>3.984648</td>\n",
       "      <td>3.229561</td>\n",
       "      <td>2.792525</td>\n",
       "      <td>3.362372</td>\n",
       "      <td>2.172819</td>\n",
       "    </tr>\n",
       "    <tr>\n",
       "      <th>6</th>\n",
       "      <td>2.328779</td>\n",
       "      <td>2.909816</td>\n",
       "      <td>4.337442</td>\n",
       "      <td>3.013561</td>\n",
       "      <td>3.219530</td>\n",
       "      <td>3.492642</td>\n",
       "      <td>3.973849</td>\n",
       "      <td>4.032916</td>\n",
       "      <td>3.798521</td>\n",
       "      <td>4.106134</td>\n",
       "      <td>...</td>\n",
       "      <td>3.194468</td>\n",
       "      <td>3.984712</td>\n",
       "      <td>4.440754</td>\n",
       "      <td>3.091153</td>\n",
       "      <td>3.274090</td>\n",
       "      <td>3.948967</td>\n",
       "      <td>3.203195</td>\n",
       "      <td>2.767032</td>\n",
       "      <td>3.331742</td>\n",
       "      <td>2.158483</td>\n",
       "    </tr>\n",
       "  </tbody>\n",
       "</table>\n",
       "<p>5 rows × 1219 columns</p>\n",
       "</div>"
      ],
      "text/plain": [
       "movietitle  'Til There Was You (1997)  101 Dalmatians (1996)  \\\n",
       "1                            2.317647               2.911369   \n",
       "2                            2.329495               2.922390   \n",
       "3                            2.326743               2.833688   \n",
       "4                            2.336569               2.978174   \n",
       "6                            2.328779               2.909816   \n",
       "\n",
       "movietitle  12 Angry Men (1957)  187 (1997)  2 Days in the Valley (1996)  \\\n",
       "1                      4.384636    3.021694                     3.231224   \n",
       "2                      4.349353    3.019368                     3.231467   \n",
       "3                      4.329042    2.998678                     3.162233   \n",
       "4                      4.357613    3.033994                     3.274172   \n",
       "6                      4.337442    3.013561                     3.219530   \n",
       "\n",
       "movietitle  20,000 Leagues Under the Sea (1954)  2001: A Space Odyssey (1968)  \\\n",
       "1                                      3.513854                      4.007220   \n",
       "2                                      3.502834                      3.990455   \n",
       "3                                      3.461863                      3.910258   \n",
       "4                                      3.527368                      4.036218   \n",
       "6                                      3.492642                      3.973849   \n",
       "\n",
       "movietitle  39 Steps, The (1935)  8 1/2 (1963)  A Chef in Love (1996)  \\\n",
       "1                       4.072585      3.831949               4.148962   \n",
       "2                       4.040418      3.803552               4.111915   \n",
       "3                       4.048221      3.824324               4.139046   \n",
       "4                       4.033275      3.789740               4.092873   \n",
       "6                       4.032916      3.798521               4.106134   \n",
       "\n",
       "movietitle           ...             Wonderland (1997)  \\\n",
       "1                    ...                      3.208944   \n",
       "2                    ...                      3.199040   \n",
       "3                    ...                      3.197814   \n",
       "4                    ...                      3.201187   \n",
       "6                    ...                      3.194468   \n",
       "\n",
       "movietitle  World of Apu, The (Apur Sansar) (1959)  \\\n",
       "1                                         4.023807   \n",
       "2                                         3.990245   \n",
       "3                                         4.014422   \n",
       "4                                         3.973533   \n",
       "6                                         3.984712   \n",
       "\n",
       "movietitle  Wrong Trousers, The (1993)  Wyatt Earp (1994)  \\\n",
       "1                             4.492633           3.101675   \n",
       "2                             4.449771           3.097112   \n",
       "3                             4.461117           3.078376   \n",
       "4                             4.438618           3.110209   \n",
       "6                             4.440754           3.091153   \n",
       "\n",
       "movietitle  Year of the Horse (1997)  Young Frankenstein (1974)  \\\n",
       "1                           3.291430                   3.983565   \n",
       "2                           3.277969                   3.961421   \n",
       "3                           3.286714                   3.919097   \n",
       "4                           3.273782                   3.984648   \n",
       "6                           3.274090                   3.948967   \n",
       "\n",
       "movietitle  Young Guns (1988)  Young Guns II (1990)  \\\n",
       "1                    3.216485              2.767524   \n",
       "2                    3.210780              2.772460   \n",
       "3                    3.181672              2.744588   \n",
       "4                    3.229561              2.792525   \n",
       "6                    3.203195              2.767032   \n",
       "\n",
       "movietitle  Young Poisoner's Handbook, The (1995)  Zeus and Roxanne (1997)  \n",
       "1                                        3.348509                 2.141848  \n",
       "2                                        3.340567                 2.159399  \n",
       "3                                        3.305408                 2.147357  \n",
       "4                                        3.362372                 2.172819  \n",
       "6                                        3.331742                 2.158483  \n",
       "\n",
       "[5 rows x 1219 columns]"
      ]
     },
     "execution_count": 37,
     "metadata": {},
     "output_type": "execute_result"
    }
   ],
   "source": [
    "x.head()"
   ]
  },
  {
   "cell_type": "code",
   "execution_count": 38,
   "metadata": {
    "collapsed": true
   },
   "outputs": [],
   "source": [
    "def fevaluation(original_df, pred_df):\n",
    "      # Code to split the dataset into training and test sets\n",
    "        # X_train, X_test = train_test_split(dset, test_size=0.33, random_state=42)\n",
    "        # print len(X_train), len(X_test)\n",
    "        # send X_train to function that performs the predictions and then sends back the results\n",
    "        # dpred = predict_p\n",
    "        # X_test = dset\n",
    "        # dpred = A_approx\n",
    "        # print \"Mean Square Error (MSE)= \", mean_squared_error(X_test, dpred)\n",
    "        # print \"Root Mean Square Error (RMSE)= \", mean_squared_error(X_test, dpred)**0.5\n",
    "        \n",
    "        \n",
    "        A = np.array (original_df, dtype = int)\n",
    "        B = np.array (pred_df, dtype = int)\n",
    "        \n",
    "        print \"Mean Square Error (MSE)= \", mean_squared_error(A, B)\n",
    "        print \"Root Mean Square Error (RMSE)= \", mean_squared_error(A, B)**0.5\n"
   ]
  },
  {
   "cell_type": "code",
   "execution_count": 39,
   "metadata": {
    "collapsed": false
   },
   "outputs": [
    {
     "name": "stdout",
     "output_type": "stream",
     "text": [
      "Mean Square Error (MSE)=  7.59196489003\n",
      "Root Mean Square Error (RMSE)=  2.75535204466\n"
     ]
    }
   ],
   "source": [
    "fevaluation(df_f, x)"
   ]
  },
  {
   "cell_type": "markdown",
   "metadata": {},
   "source": [
    "### Predicted user-item matrix using k features"
   ]
  },
  {
   "cell_type": "markdown",
   "metadata": {},
   "source": [
    "Find the best k to bulding the approximation matix"
   ]
  },
  {
   "cell_type": "markdown",
   "metadata": {},
   "source": [
    "### User-User Collaborative Filtering using cosine distance"
   ]
  },
  {
   "cell_type": "code",
   "execution_count": 40,
   "metadata": {
    "collapsed": true
   },
   "outputs": [],
   "source": [
    "# function takes in a data frame, what you want to predict pred_id, \n",
    "#the type of collaboration, the similarity you want\n",
    "# to use, and the number of responses you want to get back\n",
    "## Code adapted from https://blog.liip.ch/archive/2016/06/16/recommender-system-slack-pandas-flask.html\n",
    "\n",
    "def predict_p(dframe, pred_id, kind = 'user', similarity = cosine_similarity, n = 10):\n",
    "    d = dframe.fillna(0)\n",
    "    if kind == 'user':\n",
    "        dists = similarity(d)\n",
    "        dists_named = pd.DataFrame(dists, columns = d.index)\n",
    "        dists_named.index = dists_named.columns\n",
    "        \n",
    "    elif kind == 'item':\n",
    "        d = d.T\n",
    "        dists = similarity(d)\n",
    "        dists_named = pd.DataFrame(dists, columns = d.index)\n",
    "        dists_named.index = dists_named.columns\n",
    "\n",
    "    p = dists_named[pred_id].sort_values(ascending = False)\n",
    "    mask = p.index.isin([pred_id])\n",
    "    p = p[~mask]\n",
    "    return p[:n]   "
   ]
  },
  {
   "cell_type": "markdown",
   "metadata": {},
   "source": [
    "<b>Predictions based on user-user cosine distance"
   ]
  },
  {
   "cell_type": "code",
   "execution_count": 41,
   "metadata": {
    "collapsed": false
   },
   "outputs": [
    {
     "data": {
      "text/plain": [
       "178    0.986072\n",
       "753    0.985989\n",
       "718    0.985381\n",
       "591    0.984616\n",
       "113    0.984241\n",
       "480    0.984001\n",
       "738    0.983538\n",
       "934    0.983103\n",
       "221    0.982335\n",
       "76     0.980603\n",
       "Name: 6, dtype: float64"
      ]
     },
     "execution_count": 41,
     "metadata": {},
     "output_type": "execute_result"
    }
   ],
   "source": [
    "#Display other users who are most similar to this user (cosine distane)\n",
    "predict_p(df_subset, pred_id = 6, kind = 'user')"
   ]
  },
  {
   "cell_type": "markdown",
   "metadata": {},
   "source": [
    "<b> UU-CF Recommendations"
   ]
  },
  {
   "cell_type": "code",
   "execution_count": 42,
   "metadata": {
    "collapsed": true
   },
   "outputs": [],
   "source": [
    "# Recommend items based on User similarity\n",
    "def get_recommendations_user(predictDF, originalDF, pred_id, similarity = cosine_similarity, n = 10):\n",
    "    sim = predict_p(predictDF, pred_id = pred_id, n = n) # Top n similarity users\n",
    "    t = predictDF.ix[sim.index] # Top n closest users with all movie rating\n",
    "    noRating = pd.isnull(originalDF.ix[pred_id,]) # Find the movies that hasn't been rated by user in originalDF\n",
    "    p = t.ix[:, noRating[pd.isnull(originalDF.ix[pred_id,])].index] # Top n closest users with movies that were unrated by pred_id\n",
    "    \n",
    "    # Calculate the mean rating for the movies\n",
    "    ratings = p.T.mean(axis = 1).sort_values(ascending = False)[:n]\n",
    "    return ratings"
   ]
  },
  {
   "cell_type": "markdown",
   "metadata": {},
   "source": [
    "<b> Get top 10 recommendations (UUCF)"
   ]
  },
  {
   "cell_type": "code",
   "execution_count": 43,
   "metadata": {
    "collapsed": false
   },
   "outputs": [],
   "source": [
    "d = user_movie_df(df)"
   ]
  },
  {
   "cell_type": "code",
   "execution_count": 44,
   "metadata": {
    "collapsed": false
   },
   "outputs": [
    {
     "data": {
      "text/plain": [
       "movietitle\n",
       "Pather Panchali (1955)                                    0.962189\n",
       "Titanic (1997)                                            0.809189\n",
       "Wallace & Gromit: The Best of Aardman Animation (1996)    0.784951\n",
       "Rear Window (1954)                                        0.724749\n",
       "Some Folks Call It a Sling Blade (1993)                   0.629872\n",
       "Shall We Dance? (1996)                                    0.598059\n",
       "Manchurian Candidate, The (1962)                          0.596731\n",
       "Kaspar Hauser (1993)                                      0.587189\n",
       "Paths of Glory (1957)                                     0.549311\n",
       "Empire Strikes Back, The (1980)                           0.541549\n",
       "dtype: float64"
      ]
     },
     "execution_count": 44,
     "metadata": {},
     "output_type": "execute_result"
    }
   ],
   "source": [
    "# Predict movies for user 6\n",
    "get_recommendations_user(df_subset, d, 6, 10)"
   ]
  },
  {
   "cell_type": "markdown",
   "metadata": {},
   "source": [
    "Compare the recommendations using context prefiltered dataset and the full dataset."
   ]
  },
  {
   "cell_type": "code",
   "execution_count": 45,
   "metadata": {
    "collapsed": false
   },
   "outputs": [
    {
     "data": {
      "text/plain": [
       "movietitle\n",
       "Pather Panchali (1955)                                    4.315523\n",
       "Titanic (1997)                                            4.162523\n",
       "Wallace & Gromit: The Best of Aardman Animation (1996)    4.138284\n",
       "Rear Window (1954)                                        4.078082\n",
       "Some Folks Call It a Sling Blade (1993)                   3.983206\n",
       "Shall We Dance? (1996)                                    3.951392\n",
       "Manchurian Candidate, The (1962)                          3.950065\n",
       "Kaspar Hauser (1993)                                      3.940523\n",
       "Paths of Glory (1957)                                     3.902644\n",
       "Empire Strikes Back, The (1980)                           3.894882\n",
       "dtype: float64"
      ]
     },
     "execution_count": 45,
     "metadata": {},
     "output_type": "execute_result"
    }
   ],
   "source": [
    "# Context prefiltered dataset\n",
    "r = get_recommendations_user(df_subset, d, 6, 10)  \n",
    "mean_ratings = d[d.index ==290].mean(axis = 1)\n",
    "r + float(mean_ratings)"
   ]
  },
  {
   "cell_type": "code",
   "execution_count": 46,
   "metadata": {
    "collapsed": false
   },
   "outputs": [
    {
     "data": {
      "text/plain": [
       "movietitle\n",
       "Mis?rables, Les (1995)                                         5.0\n",
       "Horseman on the Roof, The (Hussard sur le toit, Le) (1995)     5.0\n",
       "Braindead (1992)                                               5.0\n",
       "In the Company of Men (1997)                                   5.0\n",
       "Paradise Lost: The Child Murders at Robin Hood Hills (1996)    5.0\n",
       "Home for the Holidays (1995)                                   5.0\n",
       "Kundun (1997)                                                  5.0\n",
       "Year of the Horse (1997)                                       5.0\n",
       "Ice Storm, The (1997)                                          4.5\n",
       "Night on Earth (1991)                                          4.5\n",
       "dtype: float64"
      ]
     },
     "execution_count": 46,
     "metadata": {},
     "output_type": "execute_result"
    }
   ],
   "source": [
    "# Full dataset\n",
    "get_recommendations_user(user_movie_df(df), d, 6, 10)"
   ]
  },
  {
   "cell_type": "markdown",
   "metadata": {},
   "source": [
    "Using context prefiltering, the recommendation returns different movies."
   ]
  },
  {
   "cell_type": "markdown",
   "metadata": {},
   "source": [
    "### Item-Item Collaborative Filtering \n",
    "Comparison of the recommendations using context prefiltered dataset and the full dataset."
   ]
  },
  {
   "cell_type": "code",
   "execution_count": 47,
   "metadata": {
    "collapsed": false
   },
   "outputs": [
    {
     "data": {
      "text/plain": [
       "movietitle\n",
       "Pather Panchali (1955)                                    0.830331\n",
       "Kaspar Hauser (1993)                                      0.828827\n",
       "Some Folks Call It a Sling Blade (1993)                   0.825099\n",
       "Wallace & Gromit: The Best of Aardman Animation (1996)    0.823836\n",
       "Paths of Glory (1957)                                     0.823662\n",
       "Shall We Dance? (1996)                                    0.823635\n",
       "Third Man, The (1949)                                     0.822141\n",
       "Close Shave, A (1995)                                     0.817306\n",
       "A Chef in Love (1996)                                     0.817280\n",
       "12 Angry Men (1957)                                       0.815436\n",
       "Name: Titanic (1997), dtype: float64"
      ]
     },
     "execution_count": 47,
     "metadata": {},
     "output_type": "execute_result"
    }
   ],
   "source": [
    "# context prefiltered dataset\n",
    "predict_p(df_subset, pred_id = \"Titanic (1997)\", kind = 'item') "
   ]
  },
  {
   "cell_type": "code",
   "execution_count": 48,
   "metadata": {
    "collapsed": false
   },
   "outputs": [
    {
     "data": {
      "text/plain": [
       "movietitle\n",
       "Good Will Hunting (1997)       0.591200\n",
       "Contact (1997)                 0.552981\n",
       "Apt Pupil (1998)               0.548415\n",
       "Tomorrow Never Dies (1997)     0.534515\n",
       "Air Force One (1997)           0.530389\n",
       "Scream (1996)                  0.514386\n",
       "L.A. Confidential (1997)       0.502545\n",
       "Conspiracy Theory (1997)       0.499881\n",
       "English Patient, The (1996)    0.496824\n",
       "Liar Liar (1997)               0.483865\n",
       "Name: Titanic (1997), dtype: float64"
      ]
     },
     "execution_count": 48,
     "metadata": {},
     "output_type": "execute_result"
    }
   ],
   "source": [
    "# Full dataset\n",
    "predict_p(user_movie_df(df), pred_id = \"Titanic (1997)\", kind = 'item') "
   ]
  },
  {
   "cell_type": "markdown",
   "metadata": {},
   "source": [
    "The item-item collaborative filtering also returns different recommendation of movies between contexted prefiltered subset and full dataset."
   ]
  },
  {
   "cell_type": "markdown",
   "metadata": {
    "collapsed": true
   },
   "source": [
    "### Summary"
   ]
  },
  {
   "cell_type": "markdown",
   "metadata": {},
   "source": [
    "- In this project, several contextual features, including weekday (weekday or weekend), time of day (morning, afternoon, evenning, night) and location (home or theater), were created based on timestamp in Movielens dataset.\n",
    "\n",
    "<hr>\n",
    "- Contextual pre-filtering was chosen as our contextual modeling for the context-aware recommender system.\n",
    "<hr>\n",
    "- The prediction of rating and recommender was implemented by collaborative filtering combined with SVD. \n",
    "<hr>\n",
    "- The context prefiltering technique gives different movie recommendation based on selected contexts."
   ]
  },
  {
   "cell_type": "markdown",
   "metadata": {},
   "source": [
    "### Reference:\n",
    "Adomavicius G, and  Tuzhilin A (2010); Context-Aware Recommender Systems. In \"Recommender Systems Handbook\", Springer, Ch 7, pp 217-253"
   ]
  },
  {
   "cell_type": "markdown",
   "metadata": {},
   "source": [
    "### Appendix: interactive recommendation with user input"
   ]
  },
  {
   "cell_type": "markdown",
   "metadata": {},
   "source": [
    "Here is an example of giving recommmendation for user 6. For location, we can type in either 'home' or 'theater'. Then the system will give different movie recommendation. Our future work can expand this interactive interface allowing any user to input context and give specific movie recommendations. "
   ]
  },
  {
   "cell_type": "code",
   "execution_count": 49,
   "metadata": {
    "collapsed": true
   },
   "outputs": [],
   "source": [
    "from ipywidgets import widgets\n",
    "from IPython.display import display"
   ]
  },
  {
   "cell_type": "code",
   "execution_count": 52,
   "metadata": {
    "collapsed": false
   },
   "outputs": [
    {
     "name": "stdout",
     "output_type": "stream",
     "text": [
      "movietitle\n",
      "Pather Panchali (1955)                                    0.962189\n",
      "Titanic (1997)                                            0.809189\n",
      "Wallace & Gromit: The Best of Aardman Animation (1996)    0.784951\n",
      "Rear Window (1954)                                        0.724749\n",
      "Some Folks Call It a Sling Blade (1993)                   0.629872\n",
      "Shall We Dance? (1996)                                    0.598059\n",
      "Manchurian Candidate, The (1962)                          0.596731\n",
      "Kaspar Hauser (1993)                                      0.587189\n",
      "Paths of Glory (1957)                                     0.549311\n",
      "Empire Strikes Back, The (1980)                           0.541549\n",
      "dtype: float64\n",
      "home\n"
     ]
    }
   ],
   "source": [
    "text = widgets. Text()\n",
    "display(text)\n",
    "def handle_submit(sender):\n",
    "    f = prefilter(df, timeofday = \"evening\", location = text.value)\n",
    "    f = user_movie_df(f)\n",
    "    df_subset = tempNormalize(f)\n",
    "    print get_recommendations_user(df_subset, d, 6, 10)\n",
    "    print text.value\n",
    "    \n",
    "text.on_submit(handle_submit)"
   ]
  },
  {
   "cell_type": "code",
   "execution_count": 53,
   "metadata": {
    "collapsed": false
   },
   "outputs": [
    {
     "name": "stdout",
     "output_type": "stream",
     "text": [
      "movietitle\n",
      "As Good As It Gets (1997)        0.565925\n",
      "Shall We Dance? (1996)           0.550008\n",
      "A Chef in Love (1996)            0.501639\n",
      "Apt Pupil (1998)                 0.379139\n",
      "Brassed Off (1996)               0.226639\n",
      "Primary Colors (1998)            0.212216\n",
      "Amistad (1997)                   0.143978\n",
      "Big Lebowski, The (1998)         0.122472\n",
      "Dangerous Beauty (1998)          0.058370\n",
      "Four Days in September (1997)    0.039139\n",
      "dtype: float64\n",
      "theater\n"
     ]
    }
   ],
   "source": [
    "text = widgets. Text()\n",
    "display(text)\n",
    "def handle_submit(sender):\n",
    "    f = prefilter(df, timeofday = \"evening\", location = text.value)\n",
    "    f = user_movie_df(f)\n",
    "    df_subset = tempNormalize(f)\n",
    "    print get_recommendations_user(df_subset, d, 6, 10)\n",
    "    print text.value\n",
    "    \n",
    "text.on_submit(handle_submit)"
   ]
  },
  {
   "cell_type": "code",
   "execution_count": null,
   "metadata": {
    "collapsed": true
   },
   "outputs": [],
   "source": []
  }
 ],
 "metadata": {
  "anaconda-cloud": {},
  "kernelspec": {
   "display_name": "Python 2",
   "language": "python",
   "name": "python2"
  },
  "language_info": {
   "codemirror_mode": {
    "name": "ipython",
    "version": 2
   },
   "file_extension": ".py",
   "mimetype": "text/x-python",
   "name": "python",
   "nbconvert_exporter": "python",
   "pygments_lexer": "ipython2",
   "version": "2.7.11"
  },
  "widgets": {
   "state": {
    "041151d9272548fdaaefd87264800110": {
     "views": [
      {
       "cell_index": 68
      }
     ]
    },
    "1241356fb5464a72bd2e3bf9dd05a02c": {
     "views": []
    },
    "1447afda959c462283ff1e8a5da0b182": {
     "views": [
      {
       "cell_index": 69
      }
     ]
    },
    "20e99c073d11464f9b9c141c3ad59697": {
     "views": []
    },
    "5b0de844ffc5493dba292862c6db7bcd": {
     "views": []
    },
    "5e60459d8c5d46d6b2226d96276662d0": {
     "views": []
    },
    "83068e44bfb4473b9c86e3164e5bb810": {
     "views": []
    },
    "980d09860dfe4099943910e79aaaef84": {
     "views": []
    },
    "bb256a0e80484feebb0e64919e3d35e3": {
     "views": []
    },
    "c3efc80043d248aea179d89ca5f0a733": {
     "views": []
    },
    "e3e80dc4b71c43bcb58338713afb004f": {
     "views": []
    },
    "ecd261c1015c4bf694ffa6a256def7e3": {
     "views": []
    }
   },
   "version": "1.1.2"
  }
 },
 "nbformat": 4,
 "nbformat_minor": 0
}
