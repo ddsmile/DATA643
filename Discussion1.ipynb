{
 "cells": [
  {
   "cell_type": "markdown",
   "metadata": {},
   "source": [
    "## 1. Identify a recommender system web site"
   ]
  },
  {
   "cell_type": "markdown",
   "metadata": {},
   "source": [
    "I like to listen to the online music. I’m going to look at **Spotify**, an on demand music streaming service. "
   ]
  },
  {
   "cell_type": "markdown",
   "metadata": {},
   "source": [
    "## 2. Perform a Scenario Design analysis"
   ]
  },
  {
   "cell_type": "markdown",
   "metadata": {},
   "source": [
    "- Who are your target users?"
   ]
  },
  {
   "cell_type": "markdown",
   "metadata": {},
   "source": [
    "The target users are those who listen to online music and would like to discover new music."
   ]
  },
  {
   "cell_type": "markdown",
   "metadata": {},
   "source": [
    "- What are their key goals?"
   ]
  },
  {
   "cell_type": "markdown",
   "metadata": {},
   "source": [
    "Their key goals are to attract more regular users and subscribed users by improving customer experience."
   ]
  },
  {
   "cell_type": "markdown",
   "metadata": {},
   "source": [
    "- How can you help them accomplish those goals?"
   ]
  },
  {
   "cell_type": "markdown",
   "metadata": {},
   "source": [
    "There are many online music services, such as Pandora, Google Play music and Amazon Prime music, etc. Better user experience is the key for such services to retain users and keep competitive. Other than large collection of music, good recommendation can help user find potential songs of new music and increase the customer loyalty."
   ]
  },
  {
   "cell_type": "markdown",
   "metadata": {},
   "source": [
    "## 3. Reverse engineer "
   ]
  },
  {
   "cell_type": "markdown",
   "metadata": {},
   "source": [
    "Spotify launches a service called Discovery Weekly, which recommends customized playlists to different users. The main algorithm is collaborative filtering, which recommends the music to listeners based on other listeners who has similar preferences. Since there is no explicit rating, implicit matrix factorization is used for implicit feedback. Spotify also use technique of natural language processing to analyze playlists created by users. The similarity between different songs is discovered by techniques of deep learning.  Combining all these techniques, Spotify gives good recommendation of music with high accuracy. "
   ]
  },
  {
   "cell_type": "markdown",
   "metadata": {},
   "source": [
    "## 4. Imporve the site's recommendation capabilities"
   ]
  },
  {
   "cell_type": "markdown",
   "metadata": {},
   "source": [
    "The feedback can be used to get preference of specific user. However, unlike direct rating, user feedback contains only texts. Currently, technique of natural language processing is only used in processing the playlist. NLP combined with text mining can extract more information about user profiles and preferences. Such information can help build more accurate recommendation."
   ]
  },
  {
   "cell_type": "code",
   "execution_count": null,
   "metadata": {
    "collapsed": true
   },
   "outputs": [],
   "source": []
  }
 ],
 "metadata": {
  "kernelspec": {
   "display_name": "Python 2",
   "language": "python",
   "name": "python2"
  },
  "language_info": {
   "codemirror_mode": {
    "name": "ipython",
    "version": 2
   },
   "file_extension": ".py",
   "mimetype": "text/x-python",
   "name": "python",
   "nbconvert_exporter": "python",
   "pygments_lexer": "ipython2",
   "version": "2.7.11"
  }
 },
 "nbformat": 4,
 "nbformat_minor": 0
}
